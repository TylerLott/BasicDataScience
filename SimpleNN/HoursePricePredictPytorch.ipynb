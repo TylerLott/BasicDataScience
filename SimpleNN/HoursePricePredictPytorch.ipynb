{
 "cells": [
  {
   "cell_type": "markdown",
   "metadata": {
    "id": "uA3nmwPwyBMX",
    "colab_type": "text"
   },
   "source": [
    "# Homework 3"
   ]
  },
  {
   "cell_type": "markdown",
   "metadata": {
    "id": "stVyicl_yGIl",
    "colab_type": "text"
   },
   "source": [
    "**Your name: Tyler Lott**\n",
    "\n",
    "**A-Number: A02230980**\n",
    "\n",
    "In this homework, we will build a model based on real house sale data from a [Kaggle competition](https://www.kaggle.com/c/house-prices-advanced-regression-techniques). This notebook contains codes to download the dataset, build and train a baseline model, and save the results in the submission format. Your jobs \n",
    "\n",
    "1.   Design a multi-layer neural network for hour price prediction\n",
    "\n",
    "2.   Developing a better model to reduce the prediction error.\n",
    "\n",
    "3.   Submitting your results into Kaggle and take a sceenshot of your score. Then replace the following image URL with your screenshot.\n",
    "\n",
    "![](https://drive.google.com/uc?export=download&id=1Tpla8TZXH-SiT0qaGIg44ncJ6MBzt5K2)\n",
    "\n",
    "4.   Submit the .IPYNB file to Canvas.\n",
    "    - Missing the output after execution may hurt your grade.\n",
    "\n",
    "## Accessing and Reading Data Sets\n",
    "\n",
    "The competition data is separated into training and test sets. Each record includes the property values of the house and attributes such as street type, year of construction, roof type, basement condition. The data includes multiple datatypes, including integers (year of construction), discrete labels (roof type), floating point numbers, etc.; Some data is missing and is thus labeled 'na'. The price of each house, namely the label, is only included in the training data set (it's a competition after all). The 'Data' tab on the competition tab has links to download the data.\n",
    "\n",
    "We will read and process the data using `pandas`, an [efficient data analysis toolkit](http://pandas.pydata.org/pandas-docs/stable/). Make sure you have `pandas` installed for the experiments in this section."
   ]
  },
  {
   "cell_type": "code",
   "metadata": {
    "id": "Wx9ga3uzx9Mo",
    "colab_type": "code",
    "outputId": "b112c1f6-93fe-43c5-85ff-a5d202ad91f8",
    "colab": {
     "base_uri": "https://localhost:8080/",
     "height": 104
    },
    "pycharm": {
     "is_executing": true
    }
   },
   "source": [
    "# If pandas is not installed, please uncomment the following line:\n",
    "# !pip install pandas"
   ],
   "execution_count": null,
   "outputs": []
  },
  {
   "cell_type": "code",
   "metadata": {
    "id": "MYPxXoI20b98",
    "colab_type": "code",
    "colab": {},
    "pycharm": {
     "is_executing": false
    }
   },
   "source": [
    "%matplotlib inline\n",
    "import numpy as np\n",
    "import pandas as pd"
   ],
   "execution_count": 2,
   "outputs": []
  },
  {
   "cell_type": "markdown",
   "metadata": {
    "id": "xgH-Yitf22sc",
    "colab_type": "text"
   },
   "source": [
    "We downloaded the data into the current directory. To load the two CSV (Comma Separated Values) files containing training and test data respectively we use Pandas."
   ]
  },
  {
   "cell_type": "code",
   "metadata": {
    "id": "SnC1qnsy1TiZ",
    "colab_type": "code",
    "outputId": "7812c0ae-7465-4501-af69-4c71b9984554",
    "colab": {
     "base_uri": "https://localhost:8080/",
     "height": 399
    },
    "pycharm": {
     "is_executing": false
    }
   },
   "source": [
    "# !wget https://raw.githubusercontent.com/d2l-ai/data/master/kaggle_house_pred_test.csv\n",
    "# !wget https://raw.githubusercontent.com/d2l-ai/data/master/kaggle_house_pred_train.csv"
   ],
   "execution_count": 3,
   "outputs": []
  },
  {
   "cell_type": "code",
   "metadata": {
    "id": "8F0Yfc2X2CPi",
    "colab_type": "code",
    "colab": {},
    "pycharm": {
     "is_executing": false
    }
   },
   "source": [
    "train_data = pd.read_csv('kaggle_house_pred_train.csv')\n",
    "test_data = pd.read_csv('kaggle_house_pred_test.csv')"
   ],
   "execution_count": 4,
   "outputs": []
  },
  {
   "cell_type": "markdown",
   "metadata": {
    "id": "nV7ywmUB25_h",
    "colab_type": "text"
   },
   "source": [
    "The training data set includes 1,460 examples, 80 features, and 1 label., the test data contains 1,459 examples and 80 features."
   ]
  },
  {
   "cell_type": "code",
   "metadata": {
    "id": "THmf3WyP27PM",
    "colab_type": "code",
    "outputId": "2917b19f-b173-4f97-867b-a0fa199309e8",
    "colab": {
     "base_uri": "https://localhost:8080/",
     "height": 51
    },
    "pycharm": {
     "is_executing": false
    }
   },
   "source": [
    "print(train_data.shape)\n",
    "print(test_data.shape)"
   ],
   "execution_count": 5,
   "outputs": [
    {
     "name": "stdout",
     "text": [
      "(1460, 81)\n(1459, 80)\n"
     ],
     "output_type": "stream"
    }
   ]
  },
  {
   "cell_type": "markdown",
   "metadata": {
    "id": "4fxMHe1k3BzZ",
    "colab_type": "text"
   },
   "source": [
    "Let’s take a look at the first 4 and last 2 features as well as the label (SalePrice) from the first 4 examples:"
   ]
  },
  {
   "cell_type": "code",
   "metadata": {
    "id": "6sfz9Gtl3C1b",
    "colab_type": "code",
    "outputId": "20e66187-9b06-4d8f-aa41-253931257307",
    "colab": {
     "base_uri": "https://localhost:8080/",
     "height": 171
    },
    "pycharm": {
     "is_executing": false
    }
   },
   "source": [
    "train_data.iloc[0:4, [0, 1, 2, 3, -3, -2, -1]]"
   ],
   "execution_count": 6,
   "outputs": [
    {
     "data": {
      "text/plain": "   Id  MSSubClass MSZoning  LotFrontage SaleType SaleCondition  SalePrice\n0   1          60       RL         65.0       WD        Normal     208500\n1   2          20       RL         80.0       WD        Normal     181500\n2   3          60       RL         68.0       WD        Normal     223500\n3   4          70       RL         60.0       WD       Abnorml     140000",
      "text/html": "<div>\n<style scoped>\n    .dataframe tbody tr th:only-of-type {\n        vertical-align: middle;\n    }\n\n    .dataframe tbody tr th {\n        vertical-align: top;\n    }\n\n    .dataframe thead th {\n        text-align: right;\n    }\n</style>\n<table border=\"1\" class=\"dataframe\">\n  <thead>\n    <tr style=\"text-align: right;\">\n      <th></th>\n      <th>Id</th>\n      <th>MSSubClass</th>\n      <th>MSZoning</th>\n      <th>LotFrontage</th>\n      <th>SaleType</th>\n      <th>SaleCondition</th>\n      <th>SalePrice</th>\n    </tr>\n  </thead>\n  <tbody>\n    <tr>\n      <th>0</th>\n      <td>1</td>\n      <td>60</td>\n      <td>RL</td>\n      <td>65.0</td>\n      <td>WD</td>\n      <td>Normal</td>\n      <td>208500</td>\n    </tr>\n    <tr>\n      <th>1</th>\n      <td>2</td>\n      <td>20</td>\n      <td>RL</td>\n      <td>80.0</td>\n      <td>WD</td>\n      <td>Normal</td>\n      <td>181500</td>\n    </tr>\n    <tr>\n      <th>2</th>\n      <td>3</td>\n      <td>60</td>\n      <td>RL</td>\n      <td>68.0</td>\n      <td>WD</td>\n      <td>Normal</td>\n      <td>223500</td>\n    </tr>\n    <tr>\n      <th>3</th>\n      <td>4</td>\n      <td>70</td>\n      <td>RL</td>\n      <td>60.0</td>\n      <td>WD</td>\n      <td>Abnorml</td>\n      <td>140000</td>\n    </tr>\n  </tbody>\n</table>\n</div>"
     },
     "metadata": {},
     "output_type": "execute_result",
     "execution_count": 6
    }
   ]
  },
  {
   "cell_type": "markdown",
   "metadata": {
    "id": "HwTwT20T3KAt",
    "colab_type": "text"
   },
   "source": [
    "We can see that in each example, the first feature is the ID. This helps the model identify each training example. While this is convenient, it doesn't carry any information for prediction purposes. Hence we remove it from the dataset before feeding the data into the network."
   ]
  },
  {
   "cell_type": "code",
   "metadata": {
    "id": "0WZmJ9Cp3JeZ",
    "colab_type": "code",
    "colab": {},
    "pycharm": {
     "is_executing": false
    }
   },
   "source": [
    "all_features = pd.concat((train_data.iloc[:, 1:-1], test_data.iloc[:, 1:]))"
   ],
   "execution_count": 7,
   "outputs": []
  },
  {
   "cell_type": "code",
   "metadata": {
    "id": "9kY88TjJ5urB",
    "colab_type": "code",
    "colab": {
     "base_uri": "https://localhost:8080/",
     "height": 267
    },
    "outputId": "711c6dbf-ffd9-4f6f-87c1-02ed339eb889",
    "pycharm": {
     "is_executing": false
    }
   },
   "source": [
    "all_features.head()"
   ],
   "execution_count": 8,
   "outputs": [
    {
     "data": {
      "text/plain": "   MSSubClass MSZoning  LotFrontage  LotArea Street Alley LotShape  \\\n0          60       RL         65.0     8450   Pave   NaN      Reg   \n1          20       RL         80.0     9600   Pave   NaN      Reg   \n2          60       RL         68.0    11250   Pave   NaN      IR1   \n3          70       RL         60.0     9550   Pave   NaN      IR1   \n4          60       RL         84.0    14260   Pave   NaN      IR1   \n\n  LandContour Utilities LotConfig  ... ScreenPorch PoolArea PoolQC Fence  \\\n0         Lvl    AllPub    Inside  ...           0        0    NaN   NaN   \n1         Lvl    AllPub       FR2  ...           0        0    NaN   NaN   \n2         Lvl    AllPub    Inside  ...           0        0    NaN   NaN   \n3         Lvl    AllPub    Corner  ...           0        0    NaN   NaN   \n4         Lvl    AllPub       FR2  ...           0        0    NaN   NaN   \n\n  MiscFeature MiscVal  MoSold  YrSold  SaleType  SaleCondition  \n0         NaN       0       2    2008        WD         Normal  \n1         NaN       0       5    2007        WD         Normal  \n2         NaN       0       9    2008        WD         Normal  \n3         NaN       0       2    2006        WD        Abnorml  \n4         NaN       0      12    2008        WD         Normal  \n\n[5 rows x 79 columns]",
      "text/html": "<div>\n<style scoped>\n    .dataframe tbody tr th:only-of-type {\n        vertical-align: middle;\n    }\n\n    .dataframe tbody tr th {\n        vertical-align: top;\n    }\n\n    .dataframe thead th {\n        text-align: right;\n    }\n</style>\n<table border=\"1\" class=\"dataframe\">\n  <thead>\n    <tr style=\"text-align: right;\">\n      <th></th>\n      <th>MSSubClass</th>\n      <th>MSZoning</th>\n      <th>LotFrontage</th>\n      <th>LotArea</th>\n      <th>Street</th>\n      <th>Alley</th>\n      <th>LotShape</th>\n      <th>LandContour</th>\n      <th>Utilities</th>\n      <th>LotConfig</th>\n      <th>...</th>\n      <th>ScreenPorch</th>\n      <th>PoolArea</th>\n      <th>PoolQC</th>\n      <th>Fence</th>\n      <th>MiscFeature</th>\n      <th>MiscVal</th>\n      <th>MoSold</th>\n      <th>YrSold</th>\n      <th>SaleType</th>\n      <th>SaleCondition</th>\n    </tr>\n  </thead>\n  <tbody>\n    <tr>\n      <th>0</th>\n      <td>60</td>\n      <td>RL</td>\n      <td>65.0</td>\n      <td>8450</td>\n      <td>Pave</td>\n      <td>NaN</td>\n      <td>Reg</td>\n      <td>Lvl</td>\n      <td>AllPub</td>\n      <td>Inside</td>\n      <td>...</td>\n      <td>0</td>\n      <td>0</td>\n      <td>NaN</td>\n      <td>NaN</td>\n      <td>NaN</td>\n      <td>0</td>\n      <td>2</td>\n      <td>2008</td>\n      <td>WD</td>\n      <td>Normal</td>\n    </tr>\n    <tr>\n      <th>1</th>\n      <td>20</td>\n      <td>RL</td>\n      <td>80.0</td>\n      <td>9600</td>\n      <td>Pave</td>\n      <td>NaN</td>\n      <td>Reg</td>\n      <td>Lvl</td>\n      <td>AllPub</td>\n      <td>FR2</td>\n      <td>...</td>\n      <td>0</td>\n      <td>0</td>\n      <td>NaN</td>\n      <td>NaN</td>\n      <td>NaN</td>\n      <td>0</td>\n      <td>5</td>\n      <td>2007</td>\n      <td>WD</td>\n      <td>Normal</td>\n    </tr>\n    <tr>\n      <th>2</th>\n      <td>60</td>\n      <td>RL</td>\n      <td>68.0</td>\n      <td>11250</td>\n      <td>Pave</td>\n      <td>NaN</td>\n      <td>IR1</td>\n      <td>Lvl</td>\n      <td>AllPub</td>\n      <td>Inside</td>\n      <td>...</td>\n      <td>0</td>\n      <td>0</td>\n      <td>NaN</td>\n      <td>NaN</td>\n      <td>NaN</td>\n      <td>0</td>\n      <td>9</td>\n      <td>2008</td>\n      <td>WD</td>\n      <td>Normal</td>\n    </tr>\n    <tr>\n      <th>3</th>\n      <td>70</td>\n      <td>RL</td>\n      <td>60.0</td>\n      <td>9550</td>\n      <td>Pave</td>\n      <td>NaN</td>\n      <td>IR1</td>\n      <td>Lvl</td>\n      <td>AllPub</td>\n      <td>Corner</td>\n      <td>...</td>\n      <td>0</td>\n      <td>0</td>\n      <td>NaN</td>\n      <td>NaN</td>\n      <td>NaN</td>\n      <td>0</td>\n      <td>2</td>\n      <td>2006</td>\n      <td>WD</td>\n      <td>Abnorml</td>\n    </tr>\n    <tr>\n      <th>4</th>\n      <td>60</td>\n      <td>RL</td>\n      <td>84.0</td>\n      <td>14260</td>\n      <td>Pave</td>\n      <td>NaN</td>\n      <td>IR1</td>\n      <td>Lvl</td>\n      <td>AllPub</td>\n      <td>FR2</td>\n      <td>...</td>\n      <td>0</td>\n      <td>0</td>\n      <td>NaN</td>\n      <td>NaN</td>\n      <td>NaN</td>\n      <td>0</td>\n      <td>12</td>\n      <td>2008</td>\n      <td>WD</td>\n      <td>Normal</td>\n    </tr>\n  </tbody>\n</table>\n<p>5 rows × 79 columns</p>\n</div>"
     },
     "metadata": {},
     "output_type": "execute_result",
     "execution_count": 8
    }
   ]
  },
  {
   "cell_type": "markdown",
   "metadata": {
    "id": "Ui1WxgCg3Q1E",
    "colab_type": "text"
   },
   "source": [
    "## Data Preprocessing\n",
    "\n",
    "As stated above, we have a wide variety of datatypes. Before we feed it into a deep network we need to perform some amount of processing. Let's start with the numerical features. We begin by replacing missing values with the mean. This is a reasonable strategy if features are missing at random. To adjust them to a common scale we rescale them to zero mean and unit variance. This is accomplished as follows:\n",
    "\n",
    "$$x \\leftarrow \\frac{x - \\mu}{\\sigma}$$\n",
    "\n",
    "To check that this transforms $x$ to data with zero mean and unit variance simply calculate $\\mathbf{E}[(x-\\mu)/\\sigma] = (\\mu - \\mu)/\\sigma = 0$. To check the variance we use $\\mathbf{E}[(x-\\mu)^2] = \\sigma^2$ and thus the transformed variable has unit variance. The reason for 'normalizing' the data is that it brings all features to the same order of magnitude. After all, we do not know *a priori* which features are likely to be relevant. Hence it makes sense to treat them equally."
   ]
  },
  {
   "cell_type": "code",
   "metadata": {
    "id": "R4ZFD_zD3STa",
    "colab_type": "code",
    "colab": {},
    "pycharm": {
     "is_executing": false
    }
   },
   "source": [
    "## your code here\n",
    "\n",
    "# Combine DataFrames\n",
    "all_features = pd.concat([train_data, test_data], axis=0, ignore_index=True)\n",
    "\n",
    "# We aren't going to modify the sale price or ID because it is what we are predicting\n",
    "salePrice = all_features.pop(\"SalePrice\")\n",
    "ID = train_data.pop(\"Id\")\n",
    "\n",
    "\n",
    "# separating all of the numerical and categorical data types\n",
    "numerical_data = all_features.select_dtypes(include=[\"float64\", \"int64\"])\n",
    "\n",
    "categorical_data = all_features.select_dtypes(include=[\"object\"])\n",
    "\n",
    "# Normalizing the numerical data\n",
    "mean = numerical_data.mean()\n",
    "std = numerical_data.std()\n",
    "\n",
    "# mapping to gaussian distribution\n",
    "numerical_data = (numerical_data - mean) / std\n",
    "\n",
    "# check to see if the mean is zero\n",
    "# print((numerical_data.mean() - numerical_data.mean()) / std)\n",
    "\n",
    "# check to see if the variance is one\n",
    "# print(numerical_data.std())\n",
    "\n",
    "\n",
    "# combining the data types back together\n",
    "all_features = pd.concat([numerical_data, categorical_data], axis=1, sort=False)"
   ],
   "execution_count": 9,
   "outputs": []
  },
  {
   "cell_type": "code",
   "execution_count": 10,
   "outputs": [],
   "source": [
    "# after standardizing the data all means vanish, hence we can set missing values to 0\n",
    "all_features = all_features.fillna(0)"
   ],
   "metadata": {
    "collapsed": false,
    "pycharm": {
     "name": "#%%\n",
     "is_executing": false
    }
   }
  },
  {
   "cell_type": "markdown",
   "metadata": {
    "id": "aiM9DPGK3xGm",
    "colab_type": "text"
   },
   "source": [
    "Next we deal with discrete values. This includes variables such as 'MSZoning'. We replace them by a one-hot encoding in the same manner as how we transformed multiclass classification data into a vector of $0$ and $1$. For instance, 'MSZoning' assumes the values 'RL' and 'RM'. They map into vectors $(1,0)$ and $(0,1)$ respectively. Pandas does this automatically for us."
   ]
  },
  {
   "cell_type": "code",
   "metadata": {
    "id": "5adavFft3yc9",
    "colab_type": "code",
    "outputId": "ebe826bd-ed77-4889-dfc5-9c38c58c3393",
    "colab": {
     "base_uri": "https://localhost:8080/",
     "height": 34
    },
    "pycharm": {
     "is_executing": false
    }
   },
   "source": [
    "## your code here\n",
    "\n",
    "all_features = pd.get_dummies(all_features)\n",
    "\n",
    "all_features.shape"
   ],
   "execution_count": 11,
   "outputs": [
    {
     "data": {
      "text/plain": "(2919, 312)"
     },
     "metadata": {},
     "output_type": "execute_result",
     "execution_count": 11
    }
   ]
  },
  {
   "cell_type": "markdown",
   "metadata": {
    "id": "ftmtYZnK4aTz",
    "colab_type": "text"
   },
   "source": [
    "You can see that this conversion increases the number of features from 79 to 354. Finally, via the values attribute we can extract the NumPy format from the Pandas dataframe"
   ]
  },
  {
   "cell_type": "code",
   "metadata": {
    "id": "JepAWRlO4J5n",
    "colab_type": "code",
    "colab": {},
    "pycharm": {
     "is_executing": false
    }
   },
   "source": [
    "n_train = train_data.shape[0]\n",
    "train_features = all_features[:n_train].values.astype(float)\n",
    "test_features = all_features[n_train:].values.astype(float)\n",
    "train_labels = train_data.SalePrice.values.astype(float).reshape((-1, 1))\n",
    "\n",
    "print(train_labels.max())"
   ],
   "execution_count": 12,
   "outputs": [
    {
     "name": "stdout",
     "text": [
      "755000.0\n"
     ],
     "output_type": "stream"
    }
   ]
  },
  {
   "cell_type": "markdown",
   "metadata": {
    "id": "5Ro0C8pBtLeT",
    "colab_type": "text"
   },
   "source": [
    "Design a custom dataset and dataloader"
   ]
  },
  {
   "cell_type": "code",
   "metadata": {
    "id": "t3OQm-8FtSgo",
    "colab_type": "code",
    "colab": {},
    "pycharm": {
     "is_executing": false
    }
   },
   "source": [
    "from torch.utils.data import Dataset, DataLoader\n",
    "\n",
    "\n",
    "\n",
    "class HousePriceDataset(Dataset):\n",
    "    def __init__(self, train_features, train_labels):\n",
    "        super().__init__()\n",
    "        self.train_features = train_features\n",
    "        self.train_labels = train_labels\n",
    "\n",
    "    def __len__(self):\n",
    "        return len(self.train_features)\n",
    "\n",
    "    def __getitem__(self, idx):\n",
    "        if torch.is_tensor(idx):\n",
    "            idx = idx.tolist()\n",
    "        return (self.train_features[idx], self.train_labels[idx])"
   ],
   "execution_count": 13,
   "outputs": []
  },
  {
   "cell_type": "markdown",
   "metadata": {
    "id": "Ytjd37es4vtq",
    "colab_type": "text"
   },
   "source": [
    "## Training\n",
    "\n",
    "To get started we train a linear model with squared loss. This will obviously not lead to a competition winning submission but it provides a sanity check to see whether there's meaningful information in the data. It also amounts to a minimum baseline of how well we should expect any 'fancy' model to work.\n"
   ]
  },
  {
   "cell_type": "markdown",
   "metadata": {
    "id": "8eDKUk837vNn",
    "colab_type": "text"
   },
   "source": [
    "Revise the following neural network"
   ]
  },
  {
   "cell_type": "code",
   "metadata": {
    "id": "fBqU5YLF8gxg",
    "colab_type": "code",
    "colab": {},
    "pycharm": {
     "is_executing": false
    }
   },
   "source": [
    "## your code here\n",
    "\n",
    "\n",
    "class MLP(nn.Module):\n",
    "    def __init__(self, input_dim, output_dim=1):\n",
    "        super().__init__()\n",
    "        self.L1 = nn.Linear(input_dim, 160)\n",
    "        self.L2 = nn.Linear(160, 80)\n",
    "        self.L3 = nn.Linear(80, output_dim)\n",
    "\n",
    "    def forward(self, xb):\n",
    "        xb = torch.nn.functional.relu(self.L1(xb))\n",
    "        xb = torch.nn.functional.relu(self.L2(xb))\n",
    "        xb = self.L3(xb)\n",
    "        return xb"
   ],
   "execution_count": 15,
   "outputs": []
  },
  {
   "cell_type": "code",
   "metadata": {
    "id": "Wj0c-Vkyp-PC",
    "colab_type": "code",
    "colab": {},
    "pycharm": {
     "is_executing": false
    }
   },
   "source": [
    "class RMSELoss(nn.Module):\n",
    "    def __init__(self):\n",
    "        super().__init__()\n",
    "        self.mse = nn.MSELoss()\n",
    "        \n",
    "    def forward(self, yhat, y):\n",
    "        print('yhat')\n",
    "        print(yhat)\n",
    "        print('y')\n",
    "        print(y)\n",
    "        return torch.sqrt(self.mse(yhat, y))\n",
    "\n",
    "criterion = RMSELoss()\n"
   ],
   "execution_count": 16,
   "outputs": []
  },
  {
   "cell_type": "markdown",
   "metadata": {
    "id": "nhUsIqaBoSeU",
    "colab_type": "text"
   },
   "source": [
    "House prices, like shares, are relative. That is, we probably care more about the relative error $\\frac{y - \\hat{y}}{y}$ than about the absolute error. For instance, getting a house price wrong by USD 100,000 is terrible in Rural Ohio, where the value of the house is USD 125,000. On the other hand, if we err by this amount in Los Altos Hills, California, we can be proud of the accuracy of our model (the median house price there exceeds 4 million).\n",
    "\n",
    "One way to address this problem is to measure the discrepancy in the logarithm of the price estimates. In fact, this is also the error that is being used to measure the quality in this competition. After all, a small value $\\delta$ of $\\log y - \\log \\hat{y}$ translates into $e^{-\\delta} \\leq \\frac{\\hat{y}}{y} \\leq e^\\delta$. This leads to the following loss function:\n",
    "\n",
    "$$L = \\sqrt{\\frac{1}{n}\\sum_{i=1}^n\\left(\\log y_i -\\log \\hat{y}_i\\right)^2}$$"
   ]
  },
  {
   "cell_type": "code",
   "metadata": {
    "id": "EJE7fQSzoRgF",
    "colab_type": "code",
    "colab": {},
    "pycharm": {
     "is_executing": false
    }
   },
   "source": [
    "## your code here\n",
    "\n",
    "## Note: To further stabilize the value when the logarithm is taken, set the value of yhat less than 1 as 1.\n",
    "\n",
    "class Log_RMSELoss(nn.Module):\n",
    "    def __init__(self):\n",
    "        super().__init__()\n",
    "        self.mse = nn.MSELoss()\n",
    "\n",
    "        \n",
    "    def forward(self, yhat, y):\n",
    "        # added large number to the yhat and y so they are always positive, log of a negative number doesn't exist\n",
    "        # this doesnt affect the function of the log RMSE because it is just calulating a relative error which if both\n",
    "        # have a large number added to them the relative error is still the same or at least functionally similar\n",
    "        return torch.sqrt(self.mse(torch.log(yhat+1000000), torch.log(y+1000000))) \n",
    "\n"
   ],
   "execution_count": 17,
   "outputs": []
  },
  {
   "cell_type": "markdown",
   "metadata": {
    "id": "GZt7g4Rprz7Q",
    "colab_type": "text"
   },
   "source": [
    "The following training functions use the Adam optimization algorithm.  Compared to the mini-batch stochastic gradient descent, the Adam optimization algorithm is relatively less sensitive to learning rates. The details on various optimization algorithms are [here](http://d2l.ai/chapter_optimization/index.html)."
   ]
  },
  {
   "cell_type": "code",
   "metadata": {
    "id": "yGlSvbt1sMBo",
    "colab_type": "code",
    "colab": {},
    "pycharm": {
     "is_executing": false
    }
   },
   "source": [
    "def train(net, train_features, train_labels, test_features, test_labels,\n",
    "          num_epochs, learning_rate, batch_size):\n",
    "    train_ls, test_ls = [], []\n",
    "    train_dataset = HousePriceDataset(train_features, train_labels)\n",
    "    train_iter = DataLoader(train_dataset, batch_size, shuffle=True)\n",
    "    # The Adam optimization algorithm is used here.\n",
    "    optimizer = torch.optim.Adam(net.parameters(), lr=lr)\n",
    "    criterion = Log_RMSELoss()\n",
    "\n",
    "    for epoch in range(num_epochs):\n",
    "        for X, y in train_iter:\n",
    "            yhat = net(X.float())\n",
    "            loss = criterion(yhat, y.float())\n",
    "\n",
    "            # Backward and optimize\n",
    "            optimizer.zero_grad()\n",
    "            loss.backward()\n",
    "            optimizer.step()\n",
    "\n",
    "        train_ls.append(loss)\n",
    "        if test_labels is not None:\n",
    "            test_y_hat = net(torch.from_numpy(test_features).float())\n",
    "            test_ls.append(criterion(test_y_hat, torch.from_numpy(test_labels).float()))\n",
    "    return train_ls, test_ls"
   ],
   "execution_count": 18,
   "outputs": []
  },
  {
   "cell_type": "markdown",
   "metadata": {
    "id": "1zTaXkmIwn85",
    "colab_type": "text"
   },
   "source": [
    "## k-Fold Cross-Validation\n",
    "\n",
    "The k-fold cross-validation was introduced in the section where we discussed how to deal with [“Model Selection, Underfitting and Overfitting\"](http://d2l.ai/chapter_multilayer-perceptrons/underfit-overfit.html). We will put this to good use to select the model design and to adjust the hyperparameters. We first need a function that returns the i-th fold of the data in a k-fold cros-validation procedure. It proceeds by slicing out the i-th segment as validation data and returning the rest as training data. Note - this is not the most efficient way of handling data and we would use something much smarter if the amount of data was considerably larger. But this would obscure the function of the code considerably and we thus omit it."
   ]
  },
  {
   "cell_type": "code",
   "metadata": {
    "id": "LgCG0ldKwwjI",
    "colab_type": "code",
    "colab": {},
    "pycharm": {
     "is_executing": false
    }
   },
   "source": [
    "def get_k_fold_data(k, i, X, y):\n",
    "    assert k > 1\n",
    "    fold_size = X.shape[0] // k\n",
    "    X_train, y_train = None, None\n",
    "    for j in range(k):\n",
    "        idx = slice(j * fold_size, (j + 1) * fold_size)\n",
    "        X_part, y_part = X[idx, :], y[idx]\n",
    "        if j == i:\n",
    "            X_valid, y_valid = X_part, y_part\n",
    "        elif X_train is None:\n",
    "            X_train, y_train = X_part, y_part\n",
    "        else:\n",
    "            X_train = np.concatenate((X_train, X_part), axis=0)\n",
    "            y_train = np.concatenate((y_train, y_part), axis=0)\n",
    "    return X_train, y_train, X_valid, y_valid"
   ],
   "execution_count": 19,
   "outputs": []
  },
  {
   "cell_type": "markdown",
   "metadata": {
    "id": "B6VmHTYOw1_6",
    "colab_type": "text"
   },
   "source": [
    "The training and verification error averages are returned when we train $k$ times in the k-fold cross-validation."
   ]
  },
  {
   "cell_type": "code",
   "metadata": {
    "id": "RWyfPtQPyBuH",
    "colab_type": "code",
    "colab": {},
    "pycharm": {
     "is_executing": false
    }
   },
   "source": [
    "## util function\n",
    "from matplotlib import pyplot as plt\n",
    "from IPython import display\n",
    "\n",
    "def semilogy(x_vals, y_vals, x_label, y_label, x2_vals=None, y2_vals=None,\n",
    "             legend=None, figsize=(3.5, 2.5)):\n",
    "    \"\"\"Plot x and log(y).\"\"\"\n",
    "\n",
    "    def set_figsize(figsize=(3.5, 2.5)):\n",
    "        \"\"\"Set matplotlib figure size.\"\"\"\n",
    "        display.set_matplotlib_formats('svg')\n",
    "        plt.rcParams['figure.figsize'] = figsize\n",
    "\n",
    "    set_figsize(figsize)\n",
    "    plt.xlabel(x_label)\n",
    "    plt.ylabel(y_label)\n",
    "    plt.semilogy(x_vals, y_vals)\n",
    "    if x2_vals and y2_vals:\n",
    "        plt.semilogy(x2_vals, y2_vals, linestyle=':')\n",
    "        plt.legend(legend)\n",
    "    plt.show()"
   ],
   "execution_count": 20,
   "outputs": []
  },
  {
   "cell_type": "code",
   "metadata": {
    "id": "TBamrLLCw29X",
    "colab_type": "code",
    "colab": {},
    "pycharm": {
     "is_executing": false
    }
   },
   "source": [
    "def k_fold(k, X_train, y_train, num_epochs,\n",
    "           learning_rate, batch_size):\n",
    "    train_l_sum, valid_l_sum = 0, 0\n",
    "    for i in range(k):\n",
    "        data = get_k_fold_data(k, i, X_train, y_train)\n",
    "        net = MLP(all_features.shape[1])\n",
    "        train_ls, valid_ls = train(net, *data, num_epochs, learning_rate,\n",
    "                                   batch_size)\n",
    "        train_l_sum += train_ls[-1]\n",
    "        valid_l_sum += valid_ls[-1]\n",
    "        if i == 0:\n",
    "            semilogy(range(1, num_epochs + 1), train_ls, 'epochs', 'mse',\n",
    "                        range(1, num_epochs + 1), valid_ls,\n",
    "                        ['train', 'valid'])\n",
    "        print('fold %d, train mse: %f, valid mse: %f' % (\n",
    "            i, train_ls[-1], valid_ls[-1]))\n",
    "    return train_l_sum / k, valid_l_sum / k"
   ],
   "execution_count": 21,
   "outputs": []
  },
  {
   "cell_type": "markdown",
   "metadata": {
    "id": "jJsPcEhDw8QB",
    "colab_type": "text"
   },
   "source": [
    "## Model Selection\n",
    "\n",
    "We pick a rather un-tuned set of hyperparameters and leave it up to the reader to improve the model considerably. Finding a good choice can take quite some time, depending on how many things one wants to optimize over. Within reason the k-fold crossvalidation approach is resilient against multiple testing. However, if we were to try out an unreasonably large number of options it might fail since we might just get lucky on the validation split with a particular set of hyperparameters."
   ]
  },
  {
   "cell_type": "code",
   "metadata": {
    "id": "tjxwIl8mw9cn",
    "colab_type": "code",
    "outputId": "ccb057f6-1178-474c-e2f3-e973c8fdc30f",
    "colab": {
     "base_uri": "https://localhost:8080/",
     "height": 366
    },
    "pycharm": {
     "is_executing": false
    }
   },
   "source": [
    "k, num_epochs, lr, batch_size = 5, 1500, .0003, 12\n",
    "train_l, valid_l = k_fold(k, train_features, train_labels, num_epochs, lr,\n",
    "                          batch_size)\n",
    "print('%d-fold validation: avg train rmse: %f, avg valid rmse: %f'\n",
    "      % (k, train_l, valid_l))"
   ],
   "execution_count": 22,
   "outputs": [
    {
     "data": {
      "text/plain": "<Figure size 252x180 with 1 Axes>",
      "image/svg+xml": "<?xml version=\"1.0\" encoding=\"utf-8\" standalone=\"no\"?>\r\n<!DOCTYPE svg PUBLIC \"-//W3C//DTD SVG 1.1//EN\"\r\n  \"http://www.w3.org/Graphics/SVG/1.1/DTD/svg11.dtd\">\r\n<!-- Created with matplotlib (https://matplotlib.org/) -->\r\n<svg height=\"180.65625pt\" version=\"1.1\" viewBox=\"0 0 257.725852 180.65625\" width=\"257.725852pt\" xmlns=\"http://www.w3.org/2000/svg\" xmlns:xlink=\"http://www.w3.org/1999/xlink\">\r\n <metadata>\r\n  <rdf:RDF xmlns:cc=\"http://creativecommons.org/ns#\" xmlns:dc=\"http://purl.org/dc/elements/1.1/\" xmlns:rdf=\"http://www.w3.org/1999/02/22-rdf-syntax-ns#\">\r\n   <cc:Work>\r\n    <dc:type rdf:resource=\"http://purl.org/dc/dcmitype/StillImage\"/>\r\n    <dc:date>2020-10-21T09:07:33.432997</dc:date>\r\n    <dc:format>image/svg+xml</dc:format>\r\n    <dc:creator>\r\n     <cc:Agent>\r\n      <dc:title>Matplotlib v3.3.1, https://matplotlib.org/</dc:title>\r\n     </cc:Agent>\r\n    </dc:creator>\r\n   </cc:Work>\r\n  </rdf:RDF>\r\n </metadata>\r\n <defs>\r\n  <style type=\"text/css\">*{stroke-linecap:butt;stroke-linejoin:round;}</style>\r\n </defs>\r\n <g id=\"figure_1\">\r\n  <g id=\"patch_1\">\r\n   <path d=\"M 0 180.65625 \r\nL 257.725852 180.65625 \r\nL 257.725852 0 \r\nL 0 0 \r\nz\r\n\" style=\"fill:none;\"/>\r\n  </g>\r\n  <g id=\"axes_1\">\r\n   <g id=\"patch_2\">\r\n    <path d=\"M 51.378125 143.1 \r\nL 246.678125 143.1 \r\nL 246.678125 7.2 \r\nL 51.378125 7.2 \r\nz\r\n\" style=\"fill:#ffffff;\"/>\r\n   </g>\r\n   <g id=\"matplotlib.axis_1\">\r\n    <g id=\"xtick_1\">\r\n     <g id=\"line2d_1\">\r\n      <defs>\r\n       <path d=\"M 0 0 \r\nL 0 3.5 \r\n\" id=\"mbd2c91e62d\" style=\"stroke:#000000;stroke-width:0.8;\"/>\r\n      </defs>\r\n      <g>\r\n       <use style=\"stroke:#000000;stroke-width:0.8;\" x=\"60.136955\" xlink:href=\"#mbd2c91e62d\" y=\"143.1\"/>\r\n      </g>\r\n     </g>\r\n     <g id=\"text_1\">\r\n      <!-- 0 -->\r\n      <g transform=\"translate(56.955705 157.698438)scale(0.1 -0.1)\">\r\n       <defs>\r\n        <path d=\"M 31.78125 66.40625 \r\nQ 24.171875 66.40625 20.328125 58.90625 \r\nQ 16.5 51.421875 16.5 36.375 \r\nQ 16.5 21.390625 20.328125 13.890625 \r\nQ 24.171875 6.390625 31.78125 6.390625 \r\nQ 39.453125 6.390625 43.28125 13.890625 \r\nQ 47.125 21.390625 47.125 36.375 \r\nQ 47.125 51.421875 43.28125 58.90625 \r\nQ 39.453125 66.40625 31.78125 66.40625 \r\nz\r\nM 31.78125 74.21875 \r\nQ 44.046875 74.21875 50.515625 64.515625 \r\nQ 56.984375 54.828125 56.984375 36.375 \r\nQ 56.984375 17.96875 50.515625 8.265625 \r\nQ 44.046875 -1.421875 31.78125 -1.421875 \r\nQ 19.53125 -1.421875 13.0625 8.265625 \r\nQ 6.59375 17.96875 6.59375 36.375 \r\nQ 6.59375 54.828125 13.0625 64.515625 \r\nQ 19.53125 74.21875 31.78125 74.21875 \r\nz\r\n\" id=\"DejaVuSans-48\"/>\r\n       </defs>\r\n       <use xlink:href=\"#DejaVuSans-48\"/>\r\n      </g>\r\n     </g>\r\n    </g>\r\n    <g id=\"xtick_2\">\r\n     <g id=\"line2d_2\">\r\n      <g>\r\n       <use style=\"stroke:#000000;stroke-width:0.8;\" x=\"119.358254\" xlink:href=\"#mbd2c91e62d\" y=\"143.1\"/>\r\n      </g>\r\n     </g>\r\n     <g id=\"text_2\">\r\n      <!-- 500 -->\r\n      <g transform=\"translate(109.814504 157.698438)scale(0.1 -0.1)\">\r\n       <defs>\r\n        <path d=\"M 10.796875 72.90625 \r\nL 49.515625 72.90625 \r\nL 49.515625 64.59375 \r\nL 19.828125 64.59375 \r\nL 19.828125 46.734375 \r\nQ 21.96875 47.46875 24.109375 47.828125 \r\nQ 26.265625 48.1875 28.421875 48.1875 \r\nQ 40.625 48.1875 47.75 41.5 \r\nQ 54.890625 34.8125 54.890625 23.390625 \r\nQ 54.890625 11.625 47.5625 5.09375 \r\nQ 40.234375 -1.421875 26.90625 -1.421875 \r\nQ 22.3125 -1.421875 17.546875 -0.640625 \r\nQ 12.796875 0.140625 7.71875 1.703125 \r\nL 7.71875 11.625 \r\nQ 12.109375 9.234375 16.796875 8.0625 \r\nQ 21.484375 6.890625 26.703125 6.890625 \r\nQ 35.15625 6.890625 40.078125 11.328125 \r\nQ 45.015625 15.765625 45.015625 23.390625 \r\nQ 45.015625 31 40.078125 35.4375 \r\nQ 35.15625 39.890625 26.703125 39.890625 \r\nQ 22.75 39.890625 18.8125 39.015625 \r\nQ 14.890625 38.140625 10.796875 36.28125 \r\nz\r\n\" id=\"DejaVuSans-53\"/>\r\n       </defs>\r\n       <use xlink:href=\"#DejaVuSans-53\"/>\r\n       <use x=\"63.623047\" xlink:href=\"#DejaVuSans-48\"/>\r\n       <use x=\"127.246094\" xlink:href=\"#DejaVuSans-48\"/>\r\n      </g>\r\n     </g>\r\n    </g>\r\n    <g id=\"xtick_3\">\r\n     <g id=\"line2d_3\">\r\n      <g>\r\n       <use style=\"stroke:#000000;stroke-width:0.8;\" x=\"178.579553\" xlink:href=\"#mbd2c91e62d\" y=\"143.1\"/>\r\n      </g>\r\n     </g>\r\n     <g id=\"text_3\">\r\n      <!-- 1000 -->\r\n      <g transform=\"translate(165.854553 157.698438)scale(0.1 -0.1)\">\r\n       <defs>\r\n        <path d=\"M 12.40625 8.296875 \r\nL 28.515625 8.296875 \r\nL 28.515625 63.921875 \r\nL 10.984375 60.40625 \r\nL 10.984375 69.390625 \r\nL 28.421875 72.90625 \r\nL 38.28125 72.90625 \r\nL 38.28125 8.296875 \r\nL 54.390625 8.296875 \r\nL 54.390625 0 \r\nL 12.40625 0 \r\nz\r\n\" id=\"DejaVuSans-49\"/>\r\n       </defs>\r\n       <use xlink:href=\"#DejaVuSans-49\"/>\r\n       <use x=\"63.623047\" xlink:href=\"#DejaVuSans-48\"/>\r\n       <use x=\"127.246094\" xlink:href=\"#DejaVuSans-48\"/>\r\n       <use x=\"190.869141\" xlink:href=\"#DejaVuSans-48\"/>\r\n      </g>\r\n     </g>\r\n    </g>\r\n    <g id=\"xtick_4\">\r\n     <g id=\"line2d_4\">\r\n      <g>\r\n       <use style=\"stroke:#000000;stroke-width:0.8;\" x=\"237.800852\" xlink:href=\"#mbd2c91e62d\" y=\"143.1\"/>\r\n      </g>\r\n     </g>\r\n     <g id=\"text_4\">\r\n      <!-- 1500 -->\r\n      <g transform=\"translate(225.075852 157.698438)scale(0.1 -0.1)\">\r\n       <use xlink:href=\"#DejaVuSans-49\"/>\r\n       <use x=\"63.623047\" xlink:href=\"#DejaVuSans-53\"/>\r\n       <use x=\"127.246094\" xlink:href=\"#DejaVuSans-48\"/>\r\n       <use x=\"190.869141\" xlink:href=\"#DejaVuSans-48\"/>\r\n      </g>\r\n     </g>\r\n    </g>\r\n    <g id=\"text_5\">\r\n     <!-- epochs -->\r\n     <g transform=\"translate(131.195312 171.376563)scale(0.1 -0.1)\">\r\n      <defs>\r\n       <path d=\"M 56.203125 29.59375 \r\nL 56.203125 25.203125 \r\nL 14.890625 25.203125 \r\nQ 15.484375 15.921875 20.484375 11.0625 \r\nQ 25.484375 6.203125 34.421875 6.203125 \r\nQ 39.59375 6.203125 44.453125 7.46875 \r\nQ 49.3125 8.734375 54.109375 11.28125 \r\nL 54.109375 2.78125 \r\nQ 49.265625 0.734375 44.1875 -0.34375 \r\nQ 39.109375 -1.421875 33.890625 -1.421875 \r\nQ 20.796875 -1.421875 13.15625 6.1875 \r\nQ 5.515625 13.8125 5.515625 26.8125 \r\nQ 5.515625 40.234375 12.765625 48.109375 \r\nQ 20.015625 56 32.328125 56 \r\nQ 43.359375 56 49.78125 48.890625 \r\nQ 56.203125 41.796875 56.203125 29.59375 \r\nz\r\nM 47.21875 32.234375 \r\nQ 47.125 39.59375 43.09375 43.984375 \r\nQ 39.0625 48.390625 32.421875 48.390625 \r\nQ 24.90625 48.390625 20.390625 44.140625 \r\nQ 15.875 39.890625 15.1875 32.171875 \r\nz\r\n\" id=\"DejaVuSans-101\"/>\r\n       <path d=\"M 18.109375 8.203125 \r\nL 18.109375 -20.796875 \r\nL 9.078125 -20.796875 \r\nL 9.078125 54.6875 \r\nL 18.109375 54.6875 \r\nL 18.109375 46.390625 \r\nQ 20.953125 51.265625 25.265625 53.625 \r\nQ 29.59375 56 35.59375 56 \r\nQ 45.5625 56 51.78125 48.09375 \r\nQ 58.015625 40.1875 58.015625 27.296875 \r\nQ 58.015625 14.40625 51.78125 6.484375 \r\nQ 45.5625 -1.421875 35.59375 -1.421875 \r\nQ 29.59375 -1.421875 25.265625 0.953125 \r\nQ 20.953125 3.328125 18.109375 8.203125 \r\nz\r\nM 48.6875 27.296875 \r\nQ 48.6875 37.203125 44.609375 42.84375 \r\nQ 40.53125 48.484375 33.40625 48.484375 \r\nQ 26.265625 48.484375 22.1875 42.84375 \r\nQ 18.109375 37.203125 18.109375 27.296875 \r\nQ 18.109375 17.390625 22.1875 11.75 \r\nQ 26.265625 6.109375 33.40625 6.109375 \r\nQ 40.53125 6.109375 44.609375 11.75 \r\nQ 48.6875 17.390625 48.6875 27.296875 \r\nz\r\n\" id=\"DejaVuSans-112\"/>\r\n       <path d=\"M 30.609375 48.390625 \r\nQ 23.390625 48.390625 19.1875 42.75 \r\nQ 14.984375 37.109375 14.984375 27.296875 \r\nQ 14.984375 17.484375 19.15625 11.84375 \r\nQ 23.34375 6.203125 30.609375 6.203125 \r\nQ 37.796875 6.203125 41.984375 11.859375 \r\nQ 46.1875 17.53125 46.1875 27.296875 \r\nQ 46.1875 37.015625 41.984375 42.703125 \r\nQ 37.796875 48.390625 30.609375 48.390625 \r\nz\r\nM 30.609375 56 \r\nQ 42.328125 56 49.015625 48.375 \r\nQ 55.71875 40.765625 55.71875 27.296875 \r\nQ 55.71875 13.875 49.015625 6.21875 \r\nQ 42.328125 -1.421875 30.609375 -1.421875 \r\nQ 18.84375 -1.421875 12.171875 6.21875 \r\nQ 5.515625 13.875 5.515625 27.296875 \r\nQ 5.515625 40.765625 12.171875 48.375 \r\nQ 18.84375 56 30.609375 56 \r\nz\r\n\" id=\"DejaVuSans-111\"/>\r\n       <path d=\"M 48.78125 52.59375 \r\nL 48.78125 44.1875 \r\nQ 44.96875 46.296875 41.140625 47.34375 \r\nQ 37.3125 48.390625 33.40625 48.390625 \r\nQ 24.65625 48.390625 19.8125 42.84375 \r\nQ 14.984375 37.3125 14.984375 27.296875 \r\nQ 14.984375 17.28125 19.8125 11.734375 \r\nQ 24.65625 6.203125 33.40625 6.203125 \r\nQ 37.3125 6.203125 41.140625 7.25 \r\nQ 44.96875 8.296875 48.78125 10.40625 \r\nL 48.78125 2.09375 \r\nQ 45.015625 0.34375 40.984375 -0.53125 \r\nQ 36.96875 -1.421875 32.421875 -1.421875 \r\nQ 20.0625 -1.421875 12.78125 6.34375 \r\nQ 5.515625 14.109375 5.515625 27.296875 \r\nQ 5.515625 40.671875 12.859375 48.328125 \r\nQ 20.21875 56 33.015625 56 \r\nQ 37.15625 56 41.109375 55.140625 \r\nQ 45.0625 54.296875 48.78125 52.59375 \r\nz\r\n\" id=\"DejaVuSans-99\"/>\r\n       <path d=\"M 54.890625 33.015625 \r\nL 54.890625 0 \r\nL 45.90625 0 \r\nL 45.90625 32.71875 \r\nQ 45.90625 40.484375 42.875 44.328125 \r\nQ 39.84375 48.1875 33.796875 48.1875 \r\nQ 26.515625 48.1875 22.3125 43.546875 \r\nQ 18.109375 38.921875 18.109375 30.90625 \r\nL 18.109375 0 \r\nL 9.078125 0 \r\nL 9.078125 75.984375 \r\nL 18.109375 75.984375 \r\nL 18.109375 46.1875 \r\nQ 21.34375 51.125 25.703125 53.5625 \r\nQ 30.078125 56 35.796875 56 \r\nQ 45.21875 56 50.046875 50.171875 \r\nQ 54.890625 44.34375 54.890625 33.015625 \r\nz\r\n\" id=\"DejaVuSans-104\"/>\r\n       <path d=\"M 44.28125 53.078125 \r\nL 44.28125 44.578125 \r\nQ 40.484375 46.53125 36.375 47.5 \r\nQ 32.28125 48.484375 27.875 48.484375 \r\nQ 21.1875 48.484375 17.84375 46.4375 \r\nQ 14.5 44.390625 14.5 40.28125 \r\nQ 14.5 37.15625 16.890625 35.375 \r\nQ 19.28125 33.59375 26.515625 31.984375 \r\nL 29.59375 31.296875 \r\nQ 39.15625 29.25 43.1875 25.515625 \r\nQ 47.21875 21.78125 47.21875 15.09375 \r\nQ 47.21875 7.46875 41.1875 3.015625 \r\nQ 35.15625 -1.421875 24.609375 -1.421875 \r\nQ 20.21875 -1.421875 15.453125 -0.5625 \r\nQ 10.6875 0.296875 5.421875 2 \r\nL 5.421875 11.28125 \r\nQ 10.40625 8.6875 15.234375 7.390625 \r\nQ 20.0625 6.109375 24.8125 6.109375 \r\nQ 31.15625 6.109375 34.5625 8.28125 \r\nQ 37.984375 10.453125 37.984375 14.40625 \r\nQ 37.984375 18.0625 35.515625 20.015625 \r\nQ 33.0625 21.96875 24.703125 23.78125 \r\nL 21.578125 24.515625 \r\nQ 13.234375 26.265625 9.515625 29.90625 \r\nQ 5.8125 33.546875 5.8125 39.890625 \r\nQ 5.8125 47.609375 11.28125 51.796875 \r\nQ 16.75 56 26.8125 56 \r\nQ 31.78125 56 36.171875 55.265625 \r\nQ 40.578125 54.546875 44.28125 53.078125 \r\nz\r\n\" id=\"DejaVuSans-115\"/>\r\n      </defs>\r\n      <use xlink:href=\"#DejaVuSans-101\"/>\r\n      <use x=\"61.523438\" xlink:href=\"#DejaVuSans-112\"/>\r\n      <use x=\"125\" xlink:href=\"#DejaVuSans-111\"/>\r\n      <use x=\"186.181641\" xlink:href=\"#DejaVuSans-99\"/>\r\n      <use x=\"241.162109\" xlink:href=\"#DejaVuSans-104\"/>\r\n      <use x=\"304.541016\" xlink:href=\"#DejaVuSans-115\"/>\r\n     </g>\r\n    </g>\r\n   </g>\r\n   <g id=\"matplotlib.axis_2\">\r\n    <g id=\"ytick_1\">\r\n     <g id=\"line2d_5\">\r\n      <defs>\r\n       <path d=\"M 0 0 \r\nL -3.5 0 \r\n\" id=\"m2148501eda\" style=\"stroke:#000000;stroke-width:0.8;\"/>\r\n      </defs>\r\n      <g>\r\n       <use style=\"stroke:#000000;stroke-width:0.8;\" x=\"51.378125\" xlink:href=\"#m2148501eda\" y=\"133.165458\"/>\r\n      </g>\r\n     </g>\r\n     <g id=\"text_6\">\r\n      <!-- $\\mathdefault{10^{-4}}$ -->\r\n      <g transform=\"translate(20.878125 136.964677)scale(0.1 -0.1)\">\r\n       <defs>\r\n        <path d=\"M 10.59375 35.5 \r\nL 73.1875 35.5 \r\nL 73.1875 27.203125 \r\nL 10.59375 27.203125 \r\nz\r\n\" id=\"DejaVuSans-8722\"/>\r\n        <path d=\"M 37.796875 64.3125 \r\nL 12.890625 25.390625 \r\nL 37.796875 25.390625 \r\nz\r\nM 35.203125 72.90625 \r\nL 47.609375 72.90625 \r\nL 47.609375 25.390625 \r\nL 58.015625 25.390625 \r\nL 58.015625 17.1875 \r\nL 47.609375 17.1875 \r\nL 47.609375 0 \r\nL 37.796875 0 \r\nL 37.796875 17.1875 \r\nL 4.890625 17.1875 \r\nL 4.890625 26.703125 \r\nz\r\n\" id=\"DejaVuSans-52\"/>\r\n       </defs>\r\n       <use transform=\"translate(0 0.684375)\" xlink:href=\"#DejaVuSans-49\"/>\r\n       <use transform=\"translate(63.623047 0.684375)\" xlink:href=\"#DejaVuSans-48\"/>\r\n       <use transform=\"translate(128.203125 38.965625)scale(0.7)\" xlink:href=\"#DejaVuSans-8722\"/>\r\n       <use transform=\"translate(186.855469 38.965625)scale(0.7)\" xlink:href=\"#DejaVuSans-52\"/>\r\n      </g>\r\n     </g>\r\n    </g>\r\n    <g id=\"ytick_2\">\r\n     <g id=\"line2d_6\">\r\n      <g>\r\n       <use style=\"stroke:#000000;stroke-width:0.8;\" x=\"51.378125\" xlink:href=\"#m2148501eda\" y=\"98.780505\"/>\r\n      </g>\r\n     </g>\r\n     <g id=\"text_7\">\r\n      <!-- $\\mathdefault{10^{-3}}$ -->\r\n      <g transform=\"translate(20.878125 102.579724)scale(0.1 -0.1)\">\r\n       <defs>\r\n        <path d=\"M 40.578125 39.3125 \r\nQ 47.65625 37.796875 51.625 33 \r\nQ 55.609375 28.21875 55.609375 21.1875 \r\nQ 55.609375 10.40625 48.1875 4.484375 \r\nQ 40.765625 -1.421875 27.09375 -1.421875 \r\nQ 22.515625 -1.421875 17.65625 -0.515625 \r\nQ 12.796875 0.390625 7.625 2.203125 \r\nL 7.625 11.71875 \r\nQ 11.71875 9.328125 16.59375 8.109375 \r\nQ 21.484375 6.890625 26.8125 6.890625 \r\nQ 36.078125 6.890625 40.9375 10.546875 \r\nQ 45.796875 14.203125 45.796875 21.1875 \r\nQ 45.796875 27.640625 41.28125 31.265625 \r\nQ 36.765625 34.90625 28.71875 34.90625 \r\nL 20.21875 34.90625 \r\nL 20.21875 43.015625 \r\nL 29.109375 43.015625 \r\nQ 36.375 43.015625 40.234375 45.921875 \r\nQ 44.09375 48.828125 44.09375 54.296875 \r\nQ 44.09375 59.90625 40.109375 62.90625 \r\nQ 36.140625 65.921875 28.71875 65.921875 \r\nQ 24.65625 65.921875 20.015625 65.03125 \r\nQ 15.375 64.15625 9.8125 62.3125 \r\nL 9.8125 71.09375 \r\nQ 15.4375 72.65625 20.34375 73.4375 \r\nQ 25.25 74.21875 29.59375 74.21875 \r\nQ 40.828125 74.21875 47.359375 69.109375 \r\nQ 53.90625 64.015625 53.90625 55.328125 \r\nQ 53.90625 49.265625 50.4375 45.09375 \r\nQ 46.96875 40.921875 40.578125 39.3125 \r\nz\r\n\" id=\"DejaVuSans-51\"/>\r\n       </defs>\r\n       <use transform=\"translate(0 0.765625)\" xlink:href=\"#DejaVuSans-49\"/>\r\n       <use transform=\"translate(63.623047 0.765625)\" xlink:href=\"#DejaVuSans-48\"/>\r\n       <use transform=\"translate(128.203125 39.046875)scale(0.7)\" xlink:href=\"#DejaVuSans-8722\"/>\r\n       <use transform=\"translate(186.855469 39.046875)scale(0.7)\" xlink:href=\"#DejaVuSans-51\"/>\r\n      </g>\r\n     </g>\r\n    </g>\r\n    <g id=\"ytick_3\">\r\n     <g id=\"line2d_7\">\r\n      <g>\r\n       <use style=\"stroke:#000000;stroke-width:0.8;\" x=\"51.378125\" xlink:href=\"#m2148501eda\" y=\"64.395552\"/>\r\n      </g>\r\n     </g>\r\n     <g id=\"text_8\">\r\n      <!-- $\\mathdefault{10^{-2}}$ -->\r\n      <g transform=\"translate(20.878125 68.194771)scale(0.1 -0.1)\">\r\n       <defs>\r\n        <path d=\"M 19.1875 8.296875 \r\nL 53.609375 8.296875 \r\nL 53.609375 0 \r\nL 7.328125 0 \r\nL 7.328125 8.296875 \r\nQ 12.9375 14.109375 22.625 23.890625 \r\nQ 32.328125 33.6875 34.8125 36.53125 \r\nQ 39.546875 41.84375 41.421875 45.53125 \r\nQ 43.3125 49.21875 43.3125 52.78125 \r\nQ 43.3125 58.59375 39.234375 62.25 \r\nQ 35.15625 65.921875 28.609375 65.921875 \r\nQ 23.96875 65.921875 18.8125 64.3125 \r\nQ 13.671875 62.703125 7.8125 59.421875 \r\nL 7.8125 69.390625 \r\nQ 13.765625 71.78125 18.9375 73 \r\nQ 24.125 74.21875 28.421875 74.21875 \r\nQ 39.75 74.21875 46.484375 68.546875 \r\nQ 53.21875 62.890625 53.21875 53.421875 \r\nQ 53.21875 48.921875 51.53125 44.890625 \r\nQ 49.859375 40.875 45.40625 35.40625 \r\nQ 44.1875 33.984375 37.640625 27.21875 \r\nQ 31.109375 20.453125 19.1875 8.296875 \r\nz\r\n\" id=\"DejaVuSans-50\"/>\r\n       </defs>\r\n       <use transform=\"translate(0 0.765625)\" xlink:href=\"#DejaVuSans-49\"/>\r\n       <use transform=\"translate(63.623047 0.765625)\" xlink:href=\"#DejaVuSans-48\"/>\r\n       <use transform=\"translate(128.203125 39.046875)scale(0.7)\" xlink:href=\"#DejaVuSans-8722\"/>\r\n       <use transform=\"translate(186.855469 39.046875)scale(0.7)\" xlink:href=\"#DejaVuSans-50\"/>\r\n      </g>\r\n     </g>\r\n    </g>\r\n    <g id=\"ytick_4\">\r\n     <g id=\"line2d_8\">\r\n      <g>\r\n       <use style=\"stroke:#000000;stroke-width:0.8;\" x=\"51.378125\" xlink:href=\"#m2148501eda\" y=\"30.010599\"/>\r\n      </g>\r\n     </g>\r\n     <g id=\"text_9\">\r\n      <!-- $\\mathdefault{10^{-1}}$ -->\r\n      <g transform=\"translate(20.878125 33.809818)scale(0.1 -0.1)\">\r\n       <use transform=\"translate(0 0.684375)\" xlink:href=\"#DejaVuSans-49\"/>\r\n       <use transform=\"translate(63.623047 0.684375)\" xlink:href=\"#DejaVuSans-48\"/>\r\n       <use transform=\"translate(128.203125 38.965625)scale(0.7)\" xlink:href=\"#DejaVuSans-8722\"/>\r\n       <use transform=\"translate(186.855469 38.965625)scale(0.7)\" xlink:href=\"#DejaVuSans-49\"/>\r\n      </g>\r\n     </g>\r\n    </g>\r\n    <g id=\"ytick_5\">\r\n     <g id=\"line2d_9\">\r\n      <defs>\r\n       <path d=\"M 0 0 \r\nL -2 0 \r\n\" id=\"m8b15f5eb2a\" style=\"stroke:#000000;stroke-width:0.6;\"/>\r\n      </defs>\r\n      <g>\r\n       <use style=\"stroke:#000000;stroke-width:0.6;\" x=\"51.378125\" xlink:href=\"#m8b15f5eb2a\" y=\"140.793717\"/>\r\n      </g>\r\n     </g>\r\n    </g>\r\n    <g id=\"ytick_6\">\r\n     <g id=\"line2d_10\">\r\n      <g>\r\n       <use style=\"stroke:#000000;stroke-width:0.6;\" x=\"51.378125\" xlink:href=\"#m8b15f5eb2a\" y=\"138.491755\"/>\r\n      </g>\r\n     </g>\r\n    </g>\r\n    <g id=\"ytick_7\">\r\n     <g id=\"line2d_11\">\r\n      <g>\r\n       <use style=\"stroke:#000000;stroke-width:0.6;\" x=\"51.378125\" xlink:href=\"#m8b15f5eb2a\" y=\"136.497705\"/>\r\n      </g>\r\n     </g>\r\n    </g>\r\n    <g id=\"ytick_8\">\r\n     <g id=\"line2d_12\">\r\n      <g>\r\n       <use style=\"stroke:#000000;stroke-width:0.6;\" x=\"51.378125\" xlink:href=\"#m8b15f5eb2a\" y=\"134.738827\"/>\r\n      </g>\r\n     </g>\r\n    </g>\r\n    <g id=\"ytick_9\">\r\n     <g id=\"line2d_13\">\r\n      <g>\r\n       <use style=\"stroke:#000000;stroke-width:0.6;\" x=\"51.378125\" xlink:href=\"#m8b15f5eb2a\" y=\"122.814556\"/>\r\n      </g>\r\n     </g>\r\n    </g>\r\n    <g id=\"ytick_10\">\r\n     <g id=\"line2d_14\">\r\n      <g>\r\n       <use style=\"stroke:#000000;stroke-width:0.6;\" x=\"51.378125\" xlink:href=\"#m8b15f5eb2a\" y=\"116.759666\"/>\r\n      </g>\r\n     </g>\r\n    </g>\r\n    <g id=\"ytick_11\">\r\n     <g id=\"line2d_15\">\r\n      <g>\r\n       <use style=\"stroke:#000000;stroke-width:0.6;\" x=\"51.378125\" xlink:href=\"#m8b15f5eb2a\" y=\"112.463654\"/>\r\n      </g>\r\n     </g>\r\n    </g>\r\n    <g id=\"ytick_12\">\r\n     <g id=\"line2d_16\">\r\n      <g>\r\n       <use style=\"stroke:#000000;stroke-width:0.6;\" x=\"51.378125\" xlink:href=\"#m8b15f5eb2a\" y=\"109.131408\"/>\r\n      </g>\r\n     </g>\r\n    </g>\r\n    <g id=\"ytick_13\">\r\n     <g id=\"line2d_17\">\r\n      <g>\r\n       <use style=\"stroke:#000000;stroke-width:0.6;\" x=\"51.378125\" xlink:href=\"#m8b15f5eb2a\" y=\"106.408764\"/>\r\n      </g>\r\n     </g>\r\n    </g>\r\n    <g id=\"ytick_14\">\r\n     <g id=\"line2d_18\">\r\n      <g>\r\n       <use style=\"stroke:#000000;stroke-width:0.6;\" x=\"51.378125\" xlink:href=\"#m8b15f5eb2a\" y=\"104.106802\"/>\r\n      </g>\r\n     </g>\r\n    </g>\r\n    <g id=\"ytick_15\">\r\n     <g id=\"line2d_19\">\r\n      <g>\r\n       <use style=\"stroke:#000000;stroke-width:0.6;\" x=\"51.378125\" xlink:href=\"#m8b15f5eb2a\" y=\"102.112751\"/>\r\n      </g>\r\n     </g>\r\n    </g>\r\n    <g id=\"ytick_16\">\r\n     <g id=\"line2d_20\">\r\n      <g>\r\n       <use style=\"stroke:#000000;stroke-width:0.6;\" x=\"51.378125\" xlink:href=\"#m8b15f5eb2a\" y=\"100.353874\"/>\r\n      </g>\r\n     </g>\r\n    </g>\r\n    <g id=\"ytick_17\">\r\n     <g id=\"line2d_21\">\r\n      <g>\r\n       <use style=\"stroke:#000000;stroke-width:0.6;\" x=\"51.378125\" xlink:href=\"#m8b15f5eb2a\" y=\"88.429603\"/>\r\n      </g>\r\n     </g>\r\n    </g>\r\n    <g id=\"ytick_18\">\r\n     <g id=\"line2d_22\">\r\n      <g>\r\n       <use style=\"stroke:#000000;stroke-width:0.6;\" x=\"51.378125\" xlink:href=\"#m8b15f5eb2a\" y=\"82.374713\"/>\r\n      </g>\r\n     </g>\r\n    </g>\r\n    <g id=\"ytick_19\">\r\n     <g id=\"line2d_23\">\r\n      <g>\r\n       <use style=\"stroke:#000000;stroke-width:0.6;\" x=\"51.378125\" xlink:href=\"#m8b15f5eb2a\" y=\"78.078701\"/>\r\n      </g>\r\n     </g>\r\n    </g>\r\n    <g id=\"ytick_20\">\r\n     <g id=\"line2d_24\">\r\n      <g>\r\n       <use style=\"stroke:#000000;stroke-width:0.6;\" x=\"51.378125\" xlink:href=\"#m8b15f5eb2a\" y=\"74.746454\"/>\r\n      </g>\r\n     </g>\r\n    </g>\r\n    <g id=\"ytick_21\">\r\n     <g id=\"line2d_25\">\r\n      <g>\r\n       <use style=\"stroke:#000000;stroke-width:0.6;\" x=\"51.378125\" xlink:href=\"#m8b15f5eb2a\" y=\"72.023811\"/>\r\n      </g>\r\n     </g>\r\n    </g>\r\n    <g id=\"ytick_22\">\r\n     <g id=\"line2d_26\">\r\n      <g>\r\n       <use style=\"stroke:#000000;stroke-width:0.6;\" x=\"51.378125\" xlink:href=\"#m8b15f5eb2a\" y=\"69.721849\"/>\r\n      </g>\r\n     </g>\r\n    </g>\r\n    <g id=\"ytick_23\">\r\n     <g id=\"line2d_27\">\r\n      <g>\r\n       <use style=\"stroke:#000000;stroke-width:0.6;\" x=\"51.378125\" xlink:href=\"#m8b15f5eb2a\" y=\"67.727798\"/>\r\n      </g>\r\n     </g>\r\n    </g>\r\n    <g id=\"ytick_24\">\r\n     <g id=\"line2d_28\">\r\n      <g>\r\n       <use style=\"stroke:#000000;stroke-width:0.6;\" x=\"51.378125\" xlink:href=\"#m8b15f5eb2a\" y=\"65.968921\"/>\r\n      </g>\r\n     </g>\r\n    </g>\r\n    <g id=\"ytick_25\">\r\n     <g id=\"line2d_29\">\r\n      <g>\r\n       <use style=\"stroke:#000000;stroke-width:0.6;\" x=\"51.378125\" xlink:href=\"#m8b15f5eb2a\" y=\"54.04465\"/>\r\n      </g>\r\n     </g>\r\n    </g>\r\n    <g id=\"ytick_26\">\r\n     <g id=\"line2d_30\">\r\n      <g>\r\n       <use style=\"stroke:#000000;stroke-width:0.6;\" x=\"51.378125\" xlink:href=\"#m8b15f5eb2a\" y=\"47.98976\"/>\r\n      </g>\r\n     </g>\r\n    </g>\r\n    <g id=\"ytick_27\">\r\n     <g id=\"line2d_31\">\r\n      <g>\r\n       <use style=\"stroke:#000000;stroke-width:0.6;\" x=\"51.378125\" xlink:href=\"#m8b15f5eb2a\" y=\"43.693748\"/>\r\n      </g>\r\n     </g>\r\n    </g>\r\n    <g id=\"ytick_28\">\r\n     <g id=\"line2d_32\">\r\n      <g>\r\n       <use style=\"stroke:#000000;stroke-width:0.6;\" x=\"51.378125\" xlink:href=\"#m8b15f5eb2a\" y=\"40.361501\"/>\r\n      </g>\r\n     </g>\r\n    </g>\r\n    <g id=\"ytick_29\">\r\n     <g id=\"line2d_33\">\r\n      <g>\r\n       <use style=\"stroke:#000000;stroke-width:0.6;\" x=\"51.378125\" xlink:href=\"#m8b15f5eb2a\" y=\"37.638858\"/>\r\n      </g>\r\n     </g>\r\n    </g>\r\n    <g id=\"ytick_30\">\r\n     <g id=\"line2d_34\">\r\n      <g>\r\n       <use style=\"stroke:#000000;stroke-width:0.6;\" x=\"51.378125\" xlink:href=\"#m8b15f5eb2a\" y=\"35.336896\"/>\r\n      </g>\r\n     </g>\r\n    </g>\r\n    <g id=\"ytick_31\">\r\n     <g id=\"line2d_35\">\r\n      <g>\r\n       <use style=\"stroke:#000000;stroke-width:0.6;\" x=\"51.378125\" xlink:href=\"#m8b15f5eb2a\" y=\"33.342845\"/>\r\n      </g>\r\n     </g>\r\n    </g>\r\n    <g id=\"ytick_32\">\r\n     <g id=\"line2d_36\">\r\n      <g>\r\n       <use style=\"stroke:#000000;stroke-width:0.6;\" x=\"51.378125\" xlink:href=\"#m8b15f5eb2a\" y=\"31.583968\"/>\r\n      </g>\r\n     </g>\r\n    </g>\r\n    <g id=\"ytick_33\">\r\n     <g id=\"line2d_37\">\r\n      <g>\r\n       <use style=\"stroke:#000000;stroke-width:0.6;\" x=\"51.378125\" xlink:href=\"#m8b15f5eb2a\" y=\"19.659697\"/>\r\n      </g>\r\n     </g>\r\n    </g>\r\n    <g id=\"ytick_34\">\r\n     <g id=\"line2d_38\">\r\n      <g>\r\n       <use style=\"stroke:#000000;stroke-width:0.6;\" x=\"51.378125\" xlink:href=\"#m8b15f5eb2a\" y=\"13.604807\"/>\r\n      </g>\r\n     </g>\r\n    </g>\r\n    <g id=\"ytick_35\">\r\n     <g id=\"line2d_39\">\r\n      <g>\r\n       <use style=\"stroke:#000000;stroke-width:0.6;\" x=\"51.378125\" xlink:href=\"#m8b15f5eb2a\" y=\"9.308795\"/>\r\n      </g>\r\n     </g>\r\n    </g>\r\n    <g id=\"text_10\">\r\n     <!-- mse -->\r\n     <g transform=\"translate(14.798437 85.701562)rotate(-90)scale(0.1 -0.1)\">\r\n      <defs>\r\n       <path d=\"M 52 44.1875 \r\nQ 55.375 50.25 60.0625 53.125 \r\nQ 64.75 56 71.09375 56 \r\nQ 79.640625 56 84.28125 50.015625 \r\nQ 88.921875 44.046875 88.921875 33.015625 \r\nL 88.921875 0 \r\nL 79.890625 0 \r\nL 79.890625 32.71875 \r\nQ 79.890625 40.578125 77.09375 44.375 \r\nQ 74.3125 48.1875 68.609375 48.1875 \r\nQ 61.625 48.1875 57.5625 43.546875 \r\nQ 53.515625 38.921875 53.515625 30.90625 \r\nL 53.515625 0 \r\nL 44.484375 0 \r\nL 44.484375 32.71875 \r\nQ 44.484375 40.625 41.703125 44.40625 \r\nQ 38.921875 48.1875 33.109375 48.1875 \r\nQ 26.21875 48.1875 22.15625 43.53125 \r\nQ 18.109375 38.875 18.109375 30.90625 \r\nL 18.109375 0 \r\nL 9.078125 0 \r\nL 9.078125 54.6875 \r\nL 18.109375 54.6875 \r\nL 18.109375 46.1875 \r\nQ 21.1875 51.21875 25.484375 53.609375 \r\nQ 29.78125 56 35.6875 56 \r\nQ 41.65625 56 45.828125 52.96875 \r\nQ 50 49.953125 52 44.1875 \r\nz\r\n\" id=\"DejaVuSans-109\"/>\r\n      </defs>\r\n      <use xlink:href=\"#DejaVuSans-109\"/>\r\n      <use x=\"97.412109\" xlink:href=\"#DejaVuSans-115\"/>\r\n      <use x=\"149.511719\" xlink:href=\"#DejaVuSans-101\"/>\r\n     </g>\r\n    </g>\r\n   </g>\r\n   <g id=\"line2d_40\">\r\n    <path clip-path=\"url(#pc8c6cacb1b)\" d=\"M 60.255398 21.162348 \r\nL 60.37384 24.820263 \r\nL 60.492283 23.263986 \r\nL 60.610726 13.377273 \r\nL 60.847611 21.587351 \r\nL 60.966053 19.875152 \r\nL 61.202939 27.412019 \r\nL 61.321381 28.069778 \r\nL 61.439824 31.339524 \r\nL 61.558266 23.840573 \r\nL 61.676709 39.274751 \r\nL 61.795152 34.059014 \r\nL 61.913594 48.539774 \r\nL 62.150479 38.87019 \r\nL 62.268922 53.107917 \r\nL 62.387364 39.405486 \r\nL 62.505807 54.168964 \r\nL 62.62425 53.545009 \r\nL 62.861135 55.417286 \r\nL 62.979577 41.622463 \r\nL 63.09802 42.037071 \r\nL 63.216463 64.939155 \r\nL 63.453348 31.984521 \r\nL 63.690233 60.741312 \r\nL 63.808676 31.015349 \r\nL 63.927118 32.874275 \r\nL 64.045561 32.765713 \r\nL 64.282446 61.935695 \r\nL 64.400889 53.038497 \r\nL 64.519331 65.478493 \r\nL 64.756216 51.526381 \r\nL 64.874659 59.757055 \r\nL 65.111544 47.472529 \r\nL 65.229987 60.292483 \r\nL 65.348429 54.336636 \r\nL 65.466872 59.174089 \r\nL 65.585315 56.161552 \r\nL 65.703757 56.315138 \r\nL 65.8222 62.06723 \r\nL 66.059085 47.697812 \r\nL 66.29597 78.361063 \r\nL 66.414413 71.030541 \r\nL 66.769741 27.633035 \r\nL 67.006626 51.460814 \r\nL 67.243511 62.43842 \r\nL 67.361954 56.072927 \r\nL 67.480396 69.541605 \r\nL 67.598839 35.015617 \r\nL 67.717281 64.835839 \r\nL 67.835724 62.053125 \r\nL 67.954167 48.888257 \r\nL 68.072609 66.417216 \r\nL 68.191052 51.580592 \r\nL 68.427937 63.95179 \r\nL 68.54638 54.694996 \r\nL 68.664822 58.135183 \r\nL 68.783265 44.878793 \r\nL 68.901707 64.596358 \r\nL 69.02015 53.659604 \r\nL 69.138593 63.125623 \r\nL 69.257035 61.544263 \r\nL 69.375478 62.901839 \r\nL 69.49392 48.369578 \r\nL 69.612363 59.396995 \r\nL 69.730806 51.823871 \r\nL 69.967691 66.551134 \r\nL 70.204576 58.233065 \r\nL 70.323019 68.865014 \r\nL 70.441461 47.7271 \r\nL 70.678346 68.399639 \r\nL 70.915232 57.813519 \r\nL 71.033674 60.600345 \r\nL 71.152117 67.835397 \r\nL 71.270559 53.361248 \r\nL 71.389002 57.588827 \r\nL 71.507445 52.37654 \r\nL 71.625887 71.137714 \r\nL 71.74433 52.721025 \r\nL 71.862772 67.665164 \r\nL 72.099658 52.664915 \r\nL 72.2181 60.408304 \r\nL 72.336543 58.444167 \r\nL 72.454985 63.579216 \r\nL 72.573428 55.316651 \r\nL 72.810313 74.056173 \r\nL 73.047198 57.97946 \r\nL 73.165641 57.634633 \r\nL 73.284084 69.08647 \r\nL 73.402526 58.918685 \r\nL 73.520969 59.932332 \r\nL 73.639411 54.658003 \r\nL 73.757854 66.435957 \r\nL 73.994739 50.333822 \r\nL 74.113182 75.736415 \r\nL 74.231624 50.534117 \r\nL 74.350067 76.753806 \r\nL 74.468509 51.232813 \r\nL 74.586952 72.508508 \r\nL 74.705395 56.703309 \r\nL 74.823837 62.198392 \r\nL 74.94228 59.316893 \r\nL 75.060722 37.542789 \r\nL 75.179165 71.780023 \r\nL 75.297608 54.516699 \r\nL 75.41605 56.426732 \r\nL 75.534493 39.148792 \r\nL 75.652935 74.367036 \r\nL 75.771378 70.931945 \r\nL 76.008263 52.697025 \r\nL 76.245148 69.817766 \r\nL 76.363591 55.293452 \r\nL 76.482034 63.690055 \r\nL 76.837361 58.880028 \r\nL 76.955804 51.032661 \r\nL 77.192689 65.411028 \r\nL 77.311132 60.013726 \r\nL 77.429574 70.533947 \r\nL 77.66646 49.74385 \r\nL 77.903345 78.178458 \r\nL 78.021787 61.27236 \r\nL 78.14023 76.119434 \r\nL 78.258673 61.738206 \r\nL 78.377115 79.018802 \r\nL 78.614 55.942283 \r\nL 78.732443 61.448434 \r\nL 78.850886 58.920581 \r\nL 78.969328 59.198154 \r\nL 79.087771 68.063694 \r\nL 79.324656 56.120683 \r\nL 79.443099 57.088528 \r\nL 79.798426 69.922246 \r\nL 79.916869 68.614109 \r\nL 80.035312 57.456284 \r\nL 80.153754 59.364007 \r\nL 80.272197 71.291014 \r\nL 80.390639 24.635762 \r\nL 80.509082 61.176756 \r\nL 80.627525 61.625637 \r\nL 80.745967 54.776561 \r\nL 80.86441 54.980689 \r\nL 80.982852 48.896995 \r\nL 81.33818 69.570058 \r\nL 81.575065 55.875798 \r\nL 81.693508 68.533283 \r\nL 81.811951 60.653978 \r\nL 81.930393 74.57211 \r\nL 82.048836 68.912458 \r\nL 82.167278 76.135003 \r\nL 82.285721 64.656777 \r\nL 82.404164 73.500606 \r\nL 82.641049 62.33216 \r\nL 82.759491 74.222902 \r\nL 82.877934 54.506524 \r\nL 82.996377 66.288892 \r\nL 83.114819 66.654867 \r\nL 83.351704 45.797298 \r\nL 83.470147 66.057944 \r\nL 83.58859 61.776077 \r\nL 83.707032 63.92591 \r\nL 83.825475 61.916631 \r\nL 83.943917 53.99611 \r\nL 84.180803 75.792192 \r\nL 84.299245 62.637262 \r\nL 84.53613 70.874397 \r\nL 84.654573 72.275277 \r\nL 84.773016 44.44603 \r\nL 84.891458 80.526767 \r\nL 85.246786 52.999521 \r\nL 85.365229 71.673795 \r\nL 85.483671 58.193114 \r\nL 85.720556 79.716863 \r\nL 85.838999 56.247965 \r\nL 86.075884 77.925073 \r\nL 86.194327 68.069134 \r\nL 86.312769 72.855169 \r\nL 86.431212 71.385451 \r\nL 86.549655 65.268794 \r\nL 86.668097 52.930608 \r\nL 87.141867 61.256046 \r\nL 87.26031 59.919796 \r\nL 87.378753 66.408962 \r\nL 87.497195 61.790719 \r\nL 87.615638 65.910393 \r\nL 87.73408 54.346664 \r\nL 87.852523 73.195121 \r\nL 87.970966 65.959752 \r\nL 88.089408 51.61119 \r\nL 88.207851 75.19023 \r\nL 88.326293 62.248199 \r\nL 88.444736 62.929278 \r\nL 88.563179 72.079919 \r\nL 88.800064 59.203253 \r\nL 88.918506 58.596251 \r\nL 89.036949 39.63101 \r\nL 89.155392 59.098006 \r\nL 89.273834 54.561712 \r\nL 89.510719 59.315658 \r\nL 89.629162 51.206908 \r\nL 89.747605 59.354382 \r\nL 89.866047 39.876306 \r\nL 90.221375 80.680529 \r\nL 90.45826 54.921926 \r\nL 90.576703 82.011056 \r\nL 90.695145 58.87511 \r\nL 90.932031 68.652588 \r\nL 91.168916 58.777353 \r\nL 91.287358 72.814573 \r\nL 91.405801 62.35553 \r\nL 91.524244 68.148222 \r\nL 91.642686 44.343612 \r\nL 91.879571 72.085615 \r\nL 92.116457 65.138702 \r\nL 92.234899 50.894137 \r\nL 92.590227 67.025765 \r\nL 92.70867 66.440976 \r\nL 92.827112 55.074134 \r\nL 92.945555 57.648452 \r\nL 93.063997 79.82685 \r\nL 93.18244 74.351201 \r\nL 93.300883 63.080077 \r\nL 93.419325 71.201202 \r\nL 93.537768 59.915365 \r\nL 93.774653 69.264166 \r\nL 93.893096 57.943266 \r\nL 94.011538 58.61152 \r\nL 94.129981 61.085324 \r\nL 94.248423 56.81142 \r\nL 94.485309 60.281336 \r\nL 94.603751 54.327985 \r\nL 94.722194 76.631089 \r\nL 94.840636 59.243539 \r\nL 94.959079 70.269168 \r\nL 95.077522 62.759413 \r\nL 95.195964 80.356837 \r\nL 95.432849 55.108535 \r\nL 95.551292 71.514753 \r\nL 95.788177 54.606147 \r\nL 95.90662 55.563623 \r\nL 96.025062 53.570657 \r\nL 96.143505 90.281792 \r\nL 96.261948 64.478009 \r\nL 96.38039 64.394523 \r\nL 96.498833 61.233336 \r\nL 96.617275 53.807156 \r\nL 96.735718 78.881475 \r\nL 96.854161 55.734042 \r\nL 96.972603 55.550026 \r\nL 97.091046 66.65266 \r\nL 97.327931 53.851529 \r\nL 97.564816 73.671356 \r\nL 97.683259 60.159513 \r\nL 97.920144 73.340793 \r\nL 98.038587 61.340475 \r\nL 98.157029 69.764282 \r\nL 98.275472 63.610701 \r\nL 98.393914 64.140796 \r\nL 98.512357 60.661966 \r\nL 98.6308 47.015161 \r\nL 98.749242 52.845338 \r\nL 98.867685 66.907038 \r\nL 98.986127 64.2078 \r\nL 99.10457 53.782808 \r\nL 99.223013 58.209935 \r\nL 99.341455 70.384545 \r\nL 99.459898 47.5099 \r\nL 99.57834 65.291402 \r\nL 99.696783 58.742424 \r\nL 99.815225 64.050432 \r\nL 99.933668 76.83477 \r\nL 100.052111 61.746163 \r\nL 100.170553 63.813304 \r\nL 100.288996 70.055887 \r\nL 100.525881 58.259636 \r\nL 100.762766 69.435586 \r\nL 101.236537 44.719835 \r\nL 101.354979 61.588838 \r\nL 101.473422 56.034003 \r\nL 101.710307 75.921329 \r\nL 101.82875 55.217338 \r\nL 102.065635 63.51433 \r\nL 102.184077 52.447609 \r\nL 102.420963 67.808009 \r\nL 102.539405 59.355983 \r\nL 102.657848 60.869666 \r\nL 102.77629 52.161304 \r\nL 103.013176 64.735228 \r\nL 103.131618 63.874196 \r\nL 103.250061 69.318182 \r\nL 103.368503 58.01332 \r\nL 103.605389 67.475867 \r\nL 103.723831 66.16253 \r\nL 103.842274 61.283703 \r\nL 103.960716 47.62882 \r\nL 104.079159 67.66742 \r\nL 104.197602 67.012286 \r\nL 104.316044 58.05764 \r\nL 104.434487 66.690817 \r\nL 104.552929 64.363448 \r\nL 104.671372 59.520507 \r\nL 104.908257 89.238114 \r\nL 105.0267 44.054257 \r\nL 105.145142 65.109518 \r\nL 105.263585 65.675435 \r\nL 105.382028 60.322135 \r\nL 105.50047 75.387432 \r\nL 105.618913 61.173204 \r\nL 105.737355 66.980242 \r\nL 105.855798 56.782593 \r\nL 105.974241 67.508917 \r\nL 106.092683 37.827336 \r\nL 106.329568 67.957768 \r\nL 106.448011 37.555484 \r\nL 106.566454 66.780719 \r\nL 106.684896 56.286955 \r\nL 106.803339 59.727767 \r\nL 106.921781 48.807013 \r\nL 107.040224 62.826488 \r\nL 107.158667 62.180395 \r\nL 107.277109 68.219514 \r\nL 107.395552 67.30955 \r\nL 107.513994 71.336987 \r\nL 107.632437 59.377021 \r\nL 107.75088 68.897038 \r\nL 107.869322 68.876087 \r\nL 107.987765 54.859494 \r\nL 108.106207 69.281668 \r\nL 108.22465 70.05451 \r\nL 108.343093 64.815163 \r\nL 108.461535 66.38675 \r\nL 108.579978 49.1533 \r\nL 108.69842 56.562887 \r\nL 108.816863 56.501134 \r\nL 109.053748 68.96247 \r\nL 109.172191 62.907324 \r\nL 109.290633 76.240521 \r\nL 109.409076 68.569668 \r\nL 109.527519 73.336188 \r\nL 109.645961 71.217781 \r\nL 109.764404 38.450726 \r\nL 110.001289 57.705421 \r\nL 110.238174 74.912297 \r\nL 110.475059 49.371583 \r\nL 110.593502 65.049038 \r\nL 110.711945 50.701564 \r\nL 110.830387 61.625812 \r\nL 110.94883 54.63196 \r\nL 111.067272 74.505307 \r\nL 111.304158 60.105174 \r\nL 111.4226 66.904391 \r\nL 111.541043 87.153968 \r\nL 111.659485 60.957331 \r\nL 111.777928 62.483305 \r\nL 111.89637 57.048565 \r\nL 112.133256 64.137382 \r\nL 112.251698 62.152122 \r\nL 112.370141 73.54843 \r\nL 112.488583 73.721219 \r\nL 112.607026 58.950838 \r\nL 112.725469 64.960837 \r\nL 112.843911 80.061288 \r\nL 112.962354 61.970215 \r\nL 113.199239 67.105435 \r\nL 113.317682 58.663068 \r\nL 113.554567 72.848769 \r\nL 113.673009 61.101981 \r\nL 113.791452 65.269388 \r\nL 113.909895 62.991192 \r\nL 114.028337 66.662765 \r\nL 114.265222 64.64738 \r\nL 114.383665 64.884472 \r\nL 114.502108 56.701324 \r\nL 114.975878 69.199662 \r\nL 115.094321 47.290434 \r\nL 115.212763 51.664076 \r\nL 115.449648 72.613162 \r\nL 115.568091 69.20846 \r\nL 115.686534 37.868282 \r\nL 115.804976 44.351433 \r\nL 115.923419 61.669698 \r\nL 116.041861 40.945535 \r\nL 116.160304 40.484734 \r\nL 116.397189 72.029103 \r\nL 116.515632 54.581187 \r\nL 116.634074 65.981404 \r\nL 116.752517 52.013992 \r\nL 116.989402 72.898527 \r\nL 117.107845 70.493086 \r\nL 117.226287 70.378204 \r\nL 117.463173 56.684469 \r\nL 117.581615 63.069692 \r\nL 117.700058 48.884652 \r\nL 117.936943 74.069597 \r\nL 118.055386 73.054247 \r\nL 118.173828 73.419286 \r\nL 118.292271 40.371001 \r\nL 118.410713 85.620928 \r\nL 118.529156 57.534654 \r\nL 118.647599 66.402238 \r\nL 118.766041 65.859215 \r\nL 119.002926 59.420925 \r\nL 119.121369 77.95105 \r\nL 119.358254 48.803914 \r\nL 119.476697 60.965026 \r\nL 119.595139 57.646586 \r\nL 119.713582 73.568464 \r\nL 120.06891 55.269456 \r\nL 120.187352 65.929194 \r\nL 120.305795 60.056754 \r\nL 120.424238 45.356999 \r\nL 120.54268 71.43439 \r\nL 120.661123 50.280121 \r\nL 120.779565 76.248602 \r\nL 121.016451 63.539347 \r\nL 121.134893 70.831086 \r\nL 121.253336 71.039236 \r\nL 121.371778 68.2617 \r\nL 121.490221 40.91059 \r\nL 121.608664 62.226065 \r\nL 121.727106 59.918598 \r\nL 121.845549 69.461514 \r\nL 121.963991 60.270366 \r\nL 122.082434 83.886569 \r\nL 122.200877 57.928623 \r\nL 122.319319 58.351784 \r\nL 122.437762 77.227248 \r\nL 122.674647 58.805318 \r\nL 122.79309 65.931676 \r\nL 122.911532 60.693602 \r\nL 123.148417 67.047304 \r\nL 123.385303 58.499997 \r\nL 123.503745 73.658837 \r\nL 123.622188 72.186901 \r\nL 123.74063 57.04704 \r\nL 123.977516 70.49347 \r\nL 124.214401 52.625781 \r\nL 124.451286 67.572695 \r\nL 124.688171 61.901205 \r\nL 124.806614 66.323799 \r\nL 124.925056 59.126777 \r\nL 125.161941 69.88154 \r\nL 125.280384 54.24669 \r\nL 125.398827 62.612716 \r\nL 125.517269 41.335927 \r\nL 125.635712 63.413852 \r\nL 125.754154 62.908874 \r\nL 125.872597 65.421585 \r\nL 125.99104 71.24094 \r\nL 126.109482 57.330892 \r\nL 126.227925 75.372258 \r\nL 126.346367 73.366441 \r\nL 126.46481 43.558413 \r\nL 126.583253 68.169916 \r\nL 126.701695 62.019647 \r\nL 126.820138 65.087147 \r\nL 126.93858 76.474554 \r\nL 127.293908 59.249245 \r\nL 127.412351 62.36204 \r\nL 127.530793 61.537461 \r\nL 127.649236 67.051102 \r\nL 127.767679 65.524405 \r\nL 128.123006 56.890525 \r\nL 128.241449 84.71445 \r\nL 128.478334 52.945779 \r\nL 128.596777 59.052969 \r\nL 128.715219 56.716055 \r\nL 128.833662 72.219451 \r\nL 129.18899 57.429118 \r\nL 129.307432 66.482944 \r\nL 129.425875 60.663281 \r\nL 129.544318 68.299767 \r\nL 129.66276 60.259307 \r\nL 129.781203 81.564134 \r\nL 129.899645 63.729292 \r\nL 130.018088 73.129434 \r\nL 130.136531 61.338912 \r\nL 130.254973 64.009558 \r\nL 130.373416 43.410031 \r\nL 130.491858 68.455283 \r\nL 130.610301 67.337624 \r\nL 130.728744 71.26264 \r\nL 130.847186 57.053129 \r\nL 130.965629 67.968044 \r\nL 131.084071 63.907417 \r\nL 131.202514 50.499986 \r\nL 131.320957 77.280679 \r\nL 131.557842 56.892578 \r\nL 131.676284 69.921373 \r\nL 131.794727 67.863904 \r\nL 131.91317 59.756866 \r\nL 132.031612 65.636883 \r\nL 132.150055 57.444203 \r\nL 132.268497 80.414582 \r\nL 132.38694 70.76045 \r\nL 132.505383 49.332304 \r\nL 132.623825 67.805958 \r\nL 132.742268 62.630466 \r\nL 132.86071 78.830789 \r\nL 132.979153 64.903415 \r\nL 133.097596 88.277478 \r\nL 133.216038 65.357795 \r\nL 133.334481 64.363913 \r\nL 133.452923 65.049041 \r\nL 133.571366 60.573367 \r\nL 133.689809 41.510693 \r\nL 133.808251 73.386915 \r\nL 133.926694 70.282614 \r\nL 134.045136 70.63668 \r\nL 134.163579 41.407299 \r\nL 134.282022 61.319971 \r\nL 134.400464 56.850773 \r\nL 134.518907 72.165831 \r\nL 134.637349 54.366033 \r\nL 134.755792 68.201526 \r\nL 134.874235 64.18507 \r\nL 134.992677 68.939678 \r\nL 135.11112 56.175433 \r\nL 135.229562 72.78268 \r\nL 135.348005 60.405601 \r\nL 135.466448 61.792995 \r\nL 135.58489 59.896233 \r\nL 135.703333 72.756205 \r\nL 135.821775 46.189556 \r\nL 135.940218 68.793146 \r\nL 136.058661 68.325999 \r\nL 136.177103 88.061808 \r\nL 136.413988 58.102447 \r\nL 136.532431 49.437475 \r\nL 136.650873 64.75011 \r\nL 136.769316 18.230914 \r\nL 136.887759 70.409207 \r\nL 137.006201 58.5091 \r\nL 137.124644 60.546397 \r\nL 137.479972 71.026705 \r\nL 137.716857 61.993719 \r\nL 137.835299 68.34479 \r\nL 137.953742 80.775101 \r\nL 138.190627 56.304709 \r\nL 138.30907 68.973964 \r\nL 138.545955 64.849574 \r\nL 138.664398 64.669815 \r\nL 138.78284 66.548399 \r\nL 138.901283 74.353231 \r\nL 139.138168 62.087205 \r\nL 139.256611 77.967789 \r\nL 139.493496 72.976131 \r\nL 139.611938 57.150093 \r\nL 139.730381 59.304308 \r\nL 139.848824 67.492676 \r\nL 139.967266 56.545129 \r\nL 140.085709 88.925192 \r\nL 140.204151 72.768256 \r\nL 140.322594 41.205907 \r\nL 140.441037 82.721496 \r\nL 140.677922 59.082903 \r\nL 140.796364 70.115633 \r\nL 140.914807 66.856399 \r\nL 141.03325 69.104948 \r\nL 141.151692 69.156407 \r\nL 141.270135 59.973577 \r\nL 141.388577 70.928397 \r\nL 141.50702 70.102607 \r\nL 141.625463 74.283588 \r\nL 141.743905 53.843204 \r\nL 141.862348 72.274793 \r\nL 141.98079 61.637832 \r\nL 142.217676 72.250948 \r\nL 142.336118 40.435882 \r\nL 142.454561 68.055964 \r\nL 142.691446 60.668185 \r\nL 142.809889 78.769361 \r\nL 142.928331 63.829389 \r\nL 143.046774 63.715358 \r\nL 143.165216 75.143473 \r\nL 143.402102 63.702989 \r\nL 143.520544 73.87387 \r\nL 143.638987 63.016136 \r\nL 143.757429 90.616327 \r\nL 143.994315 57.895754 \r\nL 144.2312 78.357674 \r\nL 144.349642 62.306641 \r\nL 144.468085 61.547007 \r\nL 144.586528 64.266988 \r\nL 144.70497 56.960068 \r\nL 144.823413 69.538071 \r\nL 144.941855 62.720824 \r\nL 145.060298 68.117325 \r\nL 145.178741 43.212923 \r\nL 145.297183 75.681128 \r\nL 145.534068 73.2244 \r\nL 145.652511 58.900742 \r\nL 145.770954 71.520073 \r\nL 145.889396 57.515618 \r\nL 146.007839 62.542101 \r\nL 146.126281 73.430348 \r\nL 146.244724 48.846686 \r\nL 146.481609 75.020221 \r\nL 146.600052 70.296283 \r\nL 146.718494 74.981313 \r\nL 146.836937 40.328975 \r\nL 147.073822 74.423936 \r\nL 147.310707 66.750719 \r\nL 147.42915 70.014851 \r\nL 147.547593 58.717774 \r\nL 147.666035 71.029158 \r\nL 148.021363 57.141223 \r\nL 148.258248 64.868002 \r\nL 148.376691 55.654965 \r\nL 148.613576 66.241024 \r\nL 148.732019 70.48943 \r\nL 148.850461 57.510774 \r\nL 148.968904 79.633835 \r\nL 149.205789 57.10776 \r\nL 149.324231 67.343172 \r\nL 149.442674 62.026536 \r\nL 149.679559 78.611615 \r\nL 149.916444 62.952504 \r\nL 150.034887 68.189944 \r\nL 150.15333 65.007374 \r\nL 150.271772 41.842015 \r\nL 150.390215 69.987409 \r\nL 150.508657 61.510259 \r\nL 150.745543 75.390509 \r\nL 150.863985 73.608429 \r\nL 150.982428 57.268812 \r\nL 151.10087 60.843447 \r\nL 151.219313 56.492498 \r\nL 151.456198 76.866775 \r\nL 151.574641 60.602974 \r\nL 151.693083 69.534547 \r\nL 151.811526 58.226671 \r\nL 151.929969 66.317817 \r\nL 152.048411 87.601861 \r\nL 152.166854 49.736667 \r\nL 152.285296 64.233603 \r\nL 152.522182 61.109806 \r\nL 152.640624 55.873913 \r\nL 152.877509 83.43529 \r\nL 152.995952 70.017466 \r\nL 153.114395 69.89955 \r\nL 153.232837 64.850289 \r\nL 153.588165 82.487625 \r\nL 153.706608 66.493624 \r\nL 153.82505 78.60606 \r\nL 153.943493 41.864865 \r\nL 154.061935 72.899033 \r\nL 154.180378 53.884969 \r\nL 154.417263 71.089855 \r\nL 154.535706 61.678344 \r\nL 154.654148 61.827623 \r\nL 154.772591 56.644084 \r\nL 155.009476 70.604472 \r\nL 155.127919 76.099804 \r\nL 155.246361 55.883882 \r\nL 155.364804 61.047591 \r\nL 155.483247 77.63506 \r\nL 155.601689 77.372729 \r\nL 155.838574 57.508027 \r\nL 156.07546 80.220124 \r\nL 156.312345 62.054016 \r\nL 156.430787 78.838678 \r\nL 156.54923 72.87418 \r\nL 156.667673 60.972283 \r\nL 156.786115 61.582855 \r\nL 156.904558 65.782005 \r\nL 157.023 61.445104 \r\nL 157.141443 71.12286 \r\nL 157.259886 60.644397 \r\nL 157.378328 72.680509 \r\nL 157.615213 57.41647 \r\nL 157.852099 71.394912 \r\nL 157.970541 62.448957 \r\nL 158.088984 77.107048 \r\nL 158.207426 59.581232 \r\nL 158.325869 77.706839 \r\nL 158.444312 60.555362 \r\nL 158.562754 84.242471 \r\nL 158.681197 63.675371 \r\nL 158.799639 64.884308 \r\nL 158.918082 57.042414 \r\nL 159.036525 63.331914 \r\nL 159.154967 62.820126 \r\nL 159.27341 73.449582 \r\nL 159.510295 59.112586 \r\nL 159.628738 75.740776 \r\nL 159.74718 58.231802 \r\nL 159.865623 66.819985 \r\nL 159.984065 57.867975 \r\nL 160.102508 58.997421 \r\nL 160.220951 75.078105 \r\nL 160.339393 63.733658 \r\nL 160.576278 69.871301 \r\nL 160.813164 59.709211 \r\nL 160.931606 72.058883 \r\nL 161.050049 64.141008 \r\nL 161.286934 70.988302 \r\nL 161.405377 88.021267 \r\nL 161.642262 61.153427 \r\nL 161.760704 67.518464 \r\nL 161.879147 59.463102 \r\nL 161.997589 65.515988 \r\nL 162.116032 55.787484 \r\nL 162.234475 65.835544 \r\nL 162.47136 58.513373 \r\nL 162.589802 62.480232 \r\nL 162.708245 61.639369 \r\nL 162.826688 66.924268 \r\nL 162.94513 60.838544 \r\nL 163.063573 64.099997 \r\nL 163.182015 75.44949 \r\nL 163.537343 62.299209 \r\nL 163.655786 67.253011 \r\nL 163.774228 59.337027 \r\nL 164.011114 73.562883 \r\nL 164.129556 63.367229 \r\nL 164.247999 76.799035 \r\nL 164.484884 59.107756 \r\nL 164.603327 72.550838 \r\nL 164.721769 62.430583 \r\nL 164.840212 74.333416 \r\nL 164.958654 74.804574 \r\nL 165.077097 59.285436 \r\nL 165.432425 72.136355 \r\nL 165.66931 52.037501 \r\nL 165.787753 69.583027 \r\nL 165.906195 66.60445 \r\nL 166.024638 67.625165 \r\nL 166.14308 79.613422 \r\nL 166.261523 66.925169 \r\nL 166.379966 70.082143 \r\nL 166.498408 43.682162 \r\nL 166.735293 69.178147 \r\nL 166.853736 77.600443 \r\nL 166.972179 55.477941 \r\nL 167.209064 65.758836 \r\nL 167.445949 76.162491 \r\nL 167.564392 62.640924 \r\nL 167.682834 64.164323 \r\nL 167.801277 59.93309 \r\nL 167.919719 78.781637 \r\nL 168.038162 58.820994 \r\nL 168.156605 89.803898 \r\nL 168.275047 62.196877 \r\nL 168.39349 136.922727 \r\nL 168.511932 66.683816 \r\nL 168.748818 73.593477 \r\nL 168.985703 60.342363 \r\nL 169.222588 73.687355 \r\nL 169.341031 73.471621 \r\nL 169.577916 57.066773 \r\nL 169.696358 67.448213 \r\nL 169.814801 64.967785 \r\nL 170.051686 73.038026 \r\nL 170.170129 70.446208 \r\nL 170.288571 71.958328 \r\nL 170.407014 64.498446 \r\nL 170.525457 73.077688 \r\nL 170.762342 69.807024 \r\nL 170.880784 61.681283 \r\nL 170.999227 66.535103 \r\nL 171.11767 78.70867 \r\nL 171.236112 72.867537 \r\nL 171.354555 75.179664 \r\nL 171.472997 58.327988 \r\nL 171.709883 72.738533 \r\nL 171.828325 61.474363 \r\nL 171.946768 74.175059 \r\nL 172.183653 65.374778 \r\nL 172.302096 69.882462 \r\nL 172.420538 80.171621 \r\nL 172.538981 58.356523 \r\nL 172.657423 70.452117 \r\nL 172.775866 59.029602 \r\nL 172.894309 65.217748 \r\nL 173.012751 78.013435 \r\nL 173.131194 42.854916 \r\nL 173.368079 70.959349 \r\nL 173.486522 68.850579 \r\nL 173.604964 60.819197 \r\nL 173.723407 69.139136 \r\nL 173.841849 62.034595 \r\nL 173.960292 72.767608 \r\nL 174.078734 69.967908 \r\nL 174.197177 63.039757 \r\nL 174.31562 81.133475 \r\nL 174.552505 72.428709 \r\nL 174.670947 80.713763 \r\nL 174.907833 58.708329 \r\nL 175.026275 66.518263 \r\nL 175.144718 65.744721 \r\nL 175.26316 76.388506 \r\nL 175.500046 63.446587 \r\nL 175.618488 57.819456 \r\nL 175.736931 59.862906 \r\nL 175.973816 80.511264 \r\nL 176.092259 63.323558 \r\nL 176.210701 78.527695 \r\nL 176.329144 59.780213 \r\nL 176.447586 65.813913 \r\nL 176.566029 59.17662 \r\nL 176.684472 80.483126 \r\nL 176.802914 63.456203 \r\nL 176.921357 62.946126 \r\nL 177.039799 43.557039 \r\nL 177.276685 73.162563 \r\nL 177.395127 74.791065 \r\nL 177.51357 69.17473 \r\nL 177.750455 77.013455 \r\nL 177.868898 58.231178 \r\nL 177.98734 61.575174 \r\nL 178.105783 59.670368 \r\nL 178.224225 63.87435 \r\nL 178.342668 56.814996 \r\nL 178.461111 61.265646 \r\nL 178.579553 79.916044 \r\nL 178.697996 61.052819 \r\nL 178.816438 78.897339 \r\nL 178.934881 75.648121 \r\nL 179.171766 45.873828 \r\nL 179.408651 72.89975 \r\nL 179.527094 80.270245 \r\nL 179.763979 62.049729 \r\nL 180.000864 73.212346 \r\nL 180.356192 58.910198 \r\nL 180.474635 61.741324 \r\nL 180.593077 73.071458 \r\nL 180.71152 68.123758 \r\nL 180.829963 52.102013 \r\nL 180.948405 80.484252 \r\nL 181.066848 57.846463 \r\nL 181.18529 64.684736 \r\nL 181.303733 63.713991 \r\nL 181.540618 53.834521 \r\nL 181.777503 65.203935 \r\nL 181.895946 87.400446 \r\nL 182.014389 65.834469 \r\nL 182.132831 66.202766 \r\nL 182.251274 64.738711 \r\nL 182.369716 60.962142 \r\nL 182.488159 62.631064 \r\nL 182.606602 70.224336 \r\nL 182.725044 66.764082 \r\nL 183.080372 75.177926 \r\nL 183.4357 60.287556 \r\nL 183.554142 73.204002 \r\nL 183.672585 71.152194 \r\nL 183.90947 60.291073 \r\nL 184.027913 63.028151 \r\nL 184.264798 84.007766 \r\nL 184.501683 62.998024 \r\nL 184.620126 74.227913 \r\nL 184.738568 73.139815 \r\nL 184.857011 63.013594 \r\nL 185.093896 71.403679 \r\nL 185.212339 88.204971 \r\nL 185.330781 66.163319 \r\nL 185.449224 65.730232 \r\nL 185.567667 80.63539 \r\nL 185.686109 57.61454 \r\nL 185.804552 61.505199 \r\nL 185.922994 70.255758 \r\nL 186.041437 62.976344 \r\nL 186.15988 73.798168 \r\nL 186.278322 67.044856 \r\nL 186.396765 72.354382 \r\nL 186.63365 69.594795 \r\nL 186.870535 56.54263 \r\nL 187.10742 67.91698 \r\nL 187.225863 54.847452 \r\nL 187.344305 70.120577 \r\nL 187.462748 61.846714 \r\nL 187.581191 90.871416 \r\nL 187.818076 52.219203 \r\nL 187.936518 76.558222 \r\nL 188.054961 76.789556 \r\nL 188.291846 61.218854 \r\nL 188.410289 71.684789 \r\nL 188.528731 51.892068 \r\nL 188.647174 82.60056 \r\nL 189.002502 65.929796 \r\nL 189.120944 69.221233 \r\nL 189.239387 60.773535 \r\nL 189.35783 65.686681 \r\nL 189.476272 65.804935 \r\nL 189.713157 75.12787 \r\nL 189.8316 73.239005 \r\nL 189.950043 79.588517 \r\nL 190.186928 62.229212 \r\nL 190.30537 57.259331 \r\nL 190.423813 42.176111 \r\nL 190.542256 65.943619 \r\nL 190.660698 55.559024 \r\nL 190.779141 59.004115 \r\nL 190.897583 57.76046 \r\nL 191.016026 65.345236 \r\nL 191.134469 55.625212 \r\nL 191.371354 78.682994 \r\nL 191.489796 61.586187 \r\nL 191.608239 71.928307 \r\nL 191.845124 70.49713 \r\nL 192.318895 79.640072 \r\nL 192.437337 70.242655 \r\nL 192.55578 72.551451 \r\nL 192.674222 59.121034 \r\nL 192.792665 61.832043 \r\nL 193.02955 74.585097 \r\nL 193.147993 44.38141 \r\nL 193.384878 72.685116 \r\nL 193.503321 80.788814 \r\nL 193.621763 50.357426 \r\nL 193.740206 75.015266 \r\nL 193.858648 59.272702 \r\nL 193.977091 64.724793 \r\nL 194.095534 60.48921 \r\nL 194.213976 61.263375 \r\nL 194.332419 60.548081 \r\nL 194.450861 63.235048 \r\nL 194.569304 77.336068 \r\nL 194.687747 75.330932 \r\nL 194.806189 63.978637 \r\nL 194.924632 64.475085 \r\nL 195.043074 70.77018 \r\nL 195.161517 94.232878 \r\nL 195.398402 60.278955 \r\nL 195.516845 73.128221 \r\nL 195.635287 63.837333 \r\nL 195.872173 79.226968 \r\nL 195.990615 67.646265 \r\nL 196.109058 74.962766 \r\nL 196.345943 63.117531 \r\nL 196.582828 73.920612 \r\nL 196.701271 70.152275 \r\nL 196.938156 43.799956 \r\nL 197.056599 72.050808 \r\nL 197.175041 72.009824 \r\nL 197.293484 63.400852 \r\nL 197.411926 45.419641 \r\nL 197.530369 76.246778 \r\nL 197.885697 62.823985 \r\nL 198.004139 66.824291 \r\nL 198.122582 76.674664 \r\nL 198.241025 57.735857 \r\nL 198.359467 70.854544 \r\nL 198.47791 57.673589 \r\nL 198.596352 60.2036 \r\nL 198.714795 60.304782 \r\nL 198.95168 67.370357 \r\nL 199.070123 77.476779 \r\nL 199.188565 61.146709 \r\nL 199.42545 95.523844 \r\nL 199.543893 64.163597 \r\nL 199.662336 67.061594 \r\nL 199.780778 72.87184 \r\nL 199.899221 67.49233 \r\nL 200.017663 72.631651 \r\nL 200.136106 72.826358 \r\nL 200.372991 55.350406 \r\nL 200.491434 82.853654 \r\nL 200.846762 48.960819 \r\nL 200.965204 67.031251 \r\nL 201.083647 68.099545 \r\nL 201.320532 61.728104 \r\nL 201.438975 73.617742 \r\nL 201.557417 61.247221 \r\nL 201.67586 71.010636 \r\nL 201.794302 59.239092 \r\nL 201.912745 58.980921 \r\nL 202.031188 61.214024 \r\nL 202.14963 52.180493 \r\nL 202.504958 81.041449 \r\nL 202.741843 62.140365 \r\nL 202.978728 79.103704 \r\nL 203.097171 75.069665 \r\nL 203.215614 66.617197 \r\nL 203.334056 68.867364 \r\nL 203.452499 55.073133 \r\nL 203.570941 56.565716 \r\nL 203.689384 62.47495 \r\nL 203.807827 60.489997 \r\nL 203.926269 69.219324 \r\nL 204.044712 66.663891 \r\nL 204.163154 68.189599 \r\nL 204.281597 58.619251 \r\nL 204.518482 82.126668 \r\nL 204.755367 72.148993 \r\nL 204.87381 71.402074 \r\nL 205.229138 61.850443 \r\nL 205.34758 68.323624 \r\nL 205.466023 66.540127 \r\nL 205.584466 55.818135 \r\nL 205.702908 66.74348 \r\nL 205.821351 63.196648 \r\nL 205.939793 48.730447 \r\nL 206.176679 78.324697 \r\nL 206.295121 63.931209 \r\nL 206.413564 69.198538 \r\nL 206.532006 56.135897 \r\nL 206.650449 63.804175 \r\nL 206.768892 79.865104 \r\nL 206.887334 56.91118 \r\nL 207.005777 57.326439 \r\nL 207.124219 63.640919 \r\nL 207.242662 76.054828 \r\nL 207.361105 63.62681 \r\nL 207.59799 70.941396 \r\nL 207.716432 76.210574 \r\nL 207.953318 57.187889 \r\nL 208.190203 71.994096 \r\nL 208.308645 70.21479 \r\nL 208.427088 63.99477 \r\nL 208.545531 72.889055 \r\nL 208.663973 71.391137 \r\nL 208.900858 55.784912 \r\nL 209.019301 60.222468 \r\nL 209.256186 71.943892 \r\nL 209.374629 37.191783 \r\nL 209.611514 63.813297 \r\nL 209.729957 77.137929 \r\nL 209.966842 62.773052 \r\nL 210.085284 57.511556 \r\nL 210.203727 59.852773 \r\nL 210.32217 70.677343 \r\nL 210.440612 38.09151 \r\nL 210.559055 43.741749 \r\nL 210.677497 71.071449 \r\nL 210.914383 42.007497 \r\nL 211.032825 59.989283 \r\nL 211.151268 45.394361 \r\nL 211.26971 74.954014 \r\nL 211.388153 61.194833 \r\nL 211.506595 61.478622 \r\nL 211.625038 46.475002 \r\nL 211.743481 63.414633 \r\nL 211.861923 59.198592 \r\nL 211.980366 67.079047 \r\nL 212.098808 57.282021 \r\nL 212.217251 79.080964 \r\nL 212.454136 60.169747 \r\nL 212.572579 78.005065 \r\nL 212.691021 74.533701 \r\nL 212.809464 80.648597 \r\nL 212.927907 61.904767 \r\nL 213.164792 73.995695 \r\nL 213.283234 70.767099 \r\nL 213.401677 72.913668 \r\nL 213.52012 61.467197 \r\nL 213.757005 80.015886 \r\nL 213.875447 51.886774 \r\nL 213.99389 79.278476 \r\nL 214.112333 63.144965 \r\nL 214.349218 76.93488 \r\nL 214.586103 70.543783 \r\nL 214.704546 74.43164 \r\nL 214.822988 73.820918 \r\nL 214.941431 81.611501 \r\nL 215.059873 65.880572 \r\nL 215.178316 68.42176 \r\nL 215.296759 78.681501 \r\nL 215.652086 61.610799 \r\nL 215.770529 44.860062 \r\nL 216.007414 72.930848 \r\nL 216.125857 62.950496 \r\nL 216.244299 92.885919 \r\nL 216.362742 63.184476 \r\nL 216.481185 63.837251 \r\nL 216.71807 71.212174 \r\nL 216.836512 64.71579 \r\nL 216.954955 68.006109 \r\nL 217.073398 75.840056 \r\nL 217.19184 71.861627 \r\nL 217.310283 58.667284 \r\nL 217.428725 72.237666 \r\nL 217.547168 56.774133 \r\nL 217.665611 61.174321 \r\nL 217.784053 72.203452 \r\nL 217.902496 70.288689 \r\nL 218.020938 70.683073 \r\nL 218.257824 49.509792 \r\nL 218.376266 62.020294 \r\nL 218.494709 61.818656 \r\nL 218.613151 67.071335 \r\nL 218.731594 63.15922 \r\nL 218.850037 65.663906 \r\nL 218.968479 65.075878 \r\nL 219.205364 55.921192 \r\nL 219.44225 72.452986 \r\nL 219.560692 52.741494 \r\nL 219.797577 71.469672 \r\nL 219.91602 64.976496 \r\nL 220.034463 65.829502 \r\nL 220.152905 43.230193 \r\nL 220.271348 70.028795 \r\nL 220.38979 70.20787 \r\nL 220.508233 58.689805 \r\nL 220.745118 67.917922 \r\nL 220.863561 56.09662 \r\nL 220.982003 58.757774 \r\nL 221.218889 71.693686 \r\nL 221.337331 67.363698 \r\nL 221.455774 79.450286 \r\nL 221.574216 58.012222 \r\nL 221.692659 63.179245 \r\nL 221.811102 79.676825 \r\nL 221.929544 72.341451 \r\nL 222.047987 75.062331 \r\nL 222.166429 66.334368 \r\nL 222.284872 71.916195 \r\nL 222.403315 71.629734 \r\nL 222.521757 59.888499 \r\nL 222.6402 63.198339 \r\nL 222.758642 51.117237 \r\nL 222.877085 73.919953 \r\nL 222.995528 73.138814 \r\nL 223.11397 54.668722 \r\nL 223.232413 72.915161 \r\nL 223.350855 68.264919 \r\nL 223.469298 57.936473 \r\nL 223.706183 79.324042 \r\nL 223.824626 51.855589 \r\nL 223.943068 80.582391 \r\nL 224.061511 42.2528 \r\nL 224.298396 71.401515 \r\nL 224.535281 70.381674 \r\nL 224.653724 60.624105 \r\nL 224.772166 65.817339 \r\nL 224.890609 79.90792 \r\nL 225.245937 58.699948 \r\nL 225.364379 75.426597 \r\nL 225.601265 62.664979 \r\nL 225.719707 88.58977 \r\nL 225.83815 61.19919 \r\nL 225.956592 61.359423 \r\nL 226.075035 71.939122 \r\nL 226.193478 43.412387 \r\nL 226.430363 69.916569 \r\nL 226.667248 67.096938 \r\nL 226.785691 64.414401 \r\nL 226.904133 66.002867 \r\nL 227.022576 61.894839 \r\nL 227.259461 72.706796 \r\nL 227.377904 70.625282 \r\nL 227.614789 59.908791 \r\nL 227.733231 75.379965 \r\nL 227.851674 46.511205 \r\nL 227.970117 70.408868 \r\nL 228.088559 62.73752 \r\nL 228.207002 63.413405 \r\nL 228.325444 64.893178 \r\nL 228.443887 70.135644 \r\nL 228.56233 42.254893 \r\nL 228.799215 81.849207 \r\nL 228.917657 74.080385 \r\nL 229.0361 81.722443 \r\nL 229.154543 41.800981 \r\nL 229.272985 85.756747 \r\nL 229.50987 54.713202 \r\nL 229.628313 72.034343 \r\nL 229.746756 63.804475 \r\nL 229.865198 81.110524 \r\nL 229.983641 72.041506 \r\nL 230.102083 42.112366 \r\nL 230.220526 42.949985 \r\nL 230.338969 61.446985 \r\nL 230.457411 61.695581 \r\nL 230.575854 62.38905 \r\nL 230.694296 64.6159 \r\nL 230.812739 63.357688 \r\nL 231.049624 71.734097 \r\nL 231.168067 62.662237 \r\nL 231.286509 75.658517 \r\nL 231.523395 57.01084 \r\nL 231.641837 67.64363 \r\nL 231.76028 64.791372 \r\nL 231.878722 43.189655 \r\nL 231.997165 75.774905 \r\nL 232.115608 55.730927 \r\nL 232.23405 71.679512 \r\nL 232.352493 70.549082 \r\nL 232.470935 62.168595 \r\nL 232.589378 64.612148 \r\nL 232.707821 74.775531 \r\nL 232.826263 72.793777 \r\nL 232.944706 73.744727 \r\nL 233.181591 70.126794 \r\nL 233.300034 60.651418 \r\nL 233.418476 42.099686 \r\nL 233.655361 72.635606 \r\nL 233.773804 58.64245 \r\nL 234.010689 67.517766 \r\nL 234.129132 18.023407 \r\nL 234.247574 73.068414 \r\nL 234.366017 57.942299 \r\nL 234.48446 61.948164 \r\nL 234.602902 78.424005 \r\nL 234.721345 61.728553 \r\nL 234.839787 70.783578 \r\nL 234.95823 59.408826 \r\nL 235.076673 61.559371 \r\nL 235.432 80.730984 \r\nL 235.550443 69.005852 \r\nL 235.668886 68.303335 \r\nL 235.787328 61.30951 \r\nL 236.142656 75.858387 \r\nL 236.261098 57.708373 \r\nL 236.379541 67.029688 \r\nL 236.497984 59.812669 \r\nL 236.616426 73.442981 \r\nL 236.853311 66.900376 \r\nL 237.090197 79.274022 \r\nL 237.327082 62.361972 \r\nL 237.445524 64.464363 \r\nL 237.563967 73.90553 \r\nL 237.68241 68.371387 \r\nL 237.800852 74.749356 \r\nL 237.800852 74.749356 \r\n\" style=\"fill:none;stroke:#1f77b4;stroke-linecap:square;stroke-width:1.5;\"/>\r\n   </g>\r\n   <g id=\"line2d_41\">\r\n    <path clip-path=\"url(#pc8c6cacb1b)\" d=\"M 60.255398 21.574549 \r\nL 60.492283 21.630402 \r\nL 60.729168 21.978822 \r\nL 60.966053 22.871865 \r\nL 61.202939 24.556097 \r\nL 61.558266 29.369596 \r\nL 61.913594 38.525219 \r\nL 62.150479 44.105935 \r\nL 62.505807 46.764133 \r\nL 62.979577 48.652118 \r\nL 63.57179 49.982712 \r\nL 64.282446 50.989546 \r\nL 65.229987 51.967629 \r\nL 66.059085 52.639215 \r\nL 67.717281 53.598166 \r\nL 69.138593 54.147081 \r\nL 72.2181 54.85699 \r\nL 72.454985 54.896083 \r\nL 73.047198 54.933709 \r\nL 73.994739 55.072306 \r\nL 76.600476 55.276145 \r\nL 77.548017 55.340868 \r\nL 78.850886 55.386739 \r\nL 79.443099 55.461041 \r\nL 79.798426 55.473789 \r\nL 82.759491 55.547954 \r\nL 83.114819 55.593113 \r\nL 83.351704 55.5832 \r\nL 90.695145 55.76733 \r\nL 91.168916 55.746755 \r\nL 91.524244 55.768722 \r\nL 92.234899 55.798921 \r\nL 94.366866 55.830124 \r\nL 94.840636 55.854298 \r\nL 95.788177 55.854917 \r\nL 96.854161 55.852352 \r\nL 99.459898 55.911201 \r\nL 100.407438 55.907608 \r\nL 101.354979 55.941567 \r\nL 102.539405 55.946714 \r\nL 103.605389 55.955389 \r\nL 105.263585 55.999851 \r\nL 105.974241 55.987904 \r\nL 107.513994 55.993745 \r\nL 108.343093 56.003862 \r\nL 109.409076 56.030107 \r\nL 113.436124 56.064475 \r\nL 114.028337 56.070168 \r\nL 169.814801 56.336498 \r\nL 170.051686 56.346416 \r\nL 237.800852 55.944681 \r\nL 237.800852 55.944681 \r\n\" style=\"fill:none;stroke:#ff7f0e;stroke-dasharray:1.5,2.475;stroke-dashoffset:0;stroke-width:1.5;\"/>\r\n   </g>\r\n   <g id=\"patch_3\">\r\n    <path d=\"M 51.378125 143.1 \r\nL 51.378125 7.2 \r\n\" style=\"fill:none;stroke:#000000;stroke-linecap:square;stroke-linejoin:miter;stroke-width:0.8;\"/>\r\n   </g>\r\n   <g id=\"patch_4\">\r\n    <path d=\"M 246.678125 143.1 \r\nL 246.678125 7.2 \r\n\" style=\"fill:none;stroke:#000000;stroke-linecap:square;stroke-linejoin:miter;stroke-width:0.8;\"/>\r\n   </g>\r\n   <g id=\"patch_5\">\r\n    <path d=\"M 51.378125 143.1 \r\nL 246.678125 143.1 \r\n\" style=\"fill:none;stroke:#000000;stroke-linecap:square;stroke-linejoin:miter;stroke-width:0.8;\"/>\r\n   </g>\r\n   <g id=\"patch_6\">\r\n    <path d=\"M 51.378125 7.2 \r\nL 246.678125 7.2 \r\n\" style=\"fill:none;stroke:#000000;stroke-linecap:square;stroke-linejoin:miter;stroke-width:0.8;\"/>\r\n   </g>\r\n   <g id=\"legend_1\">\r\n    <g id=\"patch_7\">\r\n     <path d=\"M 58.378125 138.1 \r\nL 114.329687 138.1 \r\nQ 116.329687 138.1 116.329687 136.1 \r\nL 116.329687 107.74375 \r\nQ 116.329687 105.74375 114.329687 105.74375 \r\nL 58.378125 105.74375 \r\nQ 56.378125 105.74375 56.378125 107.74375 \r\nL 56.378125 136.1 \r\nQ 56.378125 138.1 58.378125 138.1 \r\nz\r\n\" style=\"fill:#ffffff;opacity:0.8;stroke:#cccccc;stroke-linejoin:miter;\"/>\r\n    </g>\r\n    <g id=\"line2d_42\">\r\n     <path d=\"M 60.378125 113.842187 \r\nL 80.378125 113.842187 \r\n\" style=\"fill:none;stroke:#1f77b4;stroke-linecap:square;stroke-width:1.5;\"/>\r\n    </g>\r\n    <g id=\"line2d_43\"/>\r\n    <g id=\"text_11\">\r\n     <!-- train -->\r\n     <g transform=\"translate(88.378125 117.342187)scale(0.1 -0.1)\">\r\n      <defs>\r\n       <path d=\"M 18.3125 70.21875 \r\nL 18.3125 54.6875 \r\nL 36.8125 54.6875 \r\nL 36.8125 47.703125 \r\nL 18.3125 47.703125 \r\nL 18.3125 18.015625 \r\nQ 18.3125 11.328125 20.140625 9.421875 \r\nQ 21.96875 7.515625 27.59375 7.515625 \r\nL 36.8125 7.515625 \r\nL 36.8125 0 \r\nL 27.59375 0 \r\nQ 17.1875 0 13.234375 3.875 \r\nQ 9.28125 7.765625 9.28125 18.015625 \r\nL 9.28125 47.703125 \r\nL 2.6875 47.703125 \r\nL 2.6875 54.6875 \r\nL 9.28125 54.6875 \r\nL 9.28125 70.21875 \r\nz\r\n\" id=\"DejaVuSans-116\"/>\r\n       <path d=\"M 41.109375 46.296875 \r\nQ 39.59375 47.171875 37.8125 47.578125 \r\nQ 36.03125 48 33.890625 48 \r\nQ 26.265625 48 22.1875 43.046875 \r\nQ 18.109375 38.09375 18.109375 28.8125 \r\nL 18.109375 0 \r\nL 9.078125 0 \r\nL 9.078125 54.6875 \r\nL 18.109375 54.6875 \r\nL 18.109375 46.1875 \r\nQ 20.953125 51.171875 25.484375 53.578125 \r\nQ 30.03125 56 36.53125 56 \r\nQ 37.453125 56 38.578125 55.875 \r\nQ 39.703125 55.765625 41.0625 55.515625 \r\nz\r\n\" id=\"DejaVuSans-114\"/>\r\n       <path d=\"M 34.28125 27.484375 \r\nQ 23.390625 27.484375 19.1875 25 \r\nQ 14.984375 22.515625 14.984375 16.5 \r\nQ 14.984375 11.71875 18.140625 8.90625 \r\nQ 21.296875 6.109375 26.703125 6.109375 \r\nQ 34.1875 6.109375 38.703125 11.40625 \r\nQ 43.21875 16.703125 43.21875 25.484375 \r\nL 43.21875 27.484375 \r\nz\r\nM 52.203125 31.203125 \r\nL 52.203125 0 \r\nL 43.21875 0 \r\nL 43.21875 8.296875 \r\nQ 40.140625 3.328125 35.546875 0.953125 \r\nQ 30.953125 -1.421875 24.3125 -1.421875 \r\nQ 15.921875 -1.421875 10.953125 3.296875 \r\nQ 6 8.015625 6 15.921875 \r\nQ 6 25.140625 12.171875 29.828125 \r\nQ 18.359375 34.515625 30.609375 34.515625 \r\nL 43.21875 34.515625 \r\nL 43.21875 35.40625 \r\nQ 43.21875 41.609375 39.140625 45 \r\nQ 35.0625 48.390625 27.6875 48.390625 \r\nQ 23 48.390625 18.546875 47.265625 \r\nQ 14.109375 46.140625 10.015625 43.890625 \r\nL 10.015625 52.203125 \r\nQ 14.9375 54.109375 19.578125 55.046875 \r\nQ 24.21875 56 28.609375 56 \r\nQ 40.484375 56 46.34375 49.84375 \r\nQ 52.203125 43.703125 52.203125 31.203125 \r\nz\r\n\" id=\"DejaVuSans-97\"/>\r\n       <path d=\"M 9.421875 54.6875 \r\nL 18.40625 54.6875 \r\nL 18.40625 0 \r\nL 9.421875 0 \r\nz\r\nM 9.421875 75.984375 \r\nL 18.40625 75.984375 \r\nL 18.40625 64.59375 \r\nL 9.421875 64.59375 \r\nz\r\n\" id=\"DejaVuSans-105\"/>\r\n       <path d=\"M 54.890625 33.015625 \r\nL 54.890625 0 \r\nL 45.90625 0 \r\nL 45.90625 32.71875 \r\nQ 45.90625 40.484375 42.875 44.328125 \r\nQ 39.84375 48.1875 33.796875 48.1875 \r\nQ 26.515625 48.1875 22.3125 43.546875 \r\nQ 18.109375 38.921875 18.109375 30.90625 \r\nL 18.109375 0 \r\nL 9.078125 0 \r\nL 9.078125 54.6875 \r\nL 18.109375 54.6875 \r\nL 18.109375 46.1875 \r\nQ 21.34375 51.125 25.703125 53.5625 \r\nQ 30.078125 56 35.796875 56 \r\nQ 45.21875 56 50.046875 50.171875 \r\nQ 54.890625 44.34375 54.890625 33.015625 \r\nz\r\n\" id=\"DejaVuSans-110\"/>\r\n      </defs>\r\n      <use xlink:href=\"#DejaVuSans-116\"/>\r\n      <use x=\"39.208984\" xlink:href=\"#DejaVuSans-114\"/>\r\n      <use x=\"80.322266\" xlink:href=\"#DejaVuSans-97\"/>\r\n      <use x=\"141.601562\" xlink:href=\"#DejaVuSans-105\"/>\r\n      <use x=\"169.384766\" xlink:href=\"#DejaVuSans-110\"/>\r\n     </g>\r\n    </g>\r\n    <g id=\"line2d_44\">\r\n     <path d=\"M 60.378125 128.520312 \r\nL 80.378125 128.520312 \r\n\" style=\"fill:none;stroke:#ff7f0e;stroke-dasharray:1.5,2.475;stroke-dashoffset:0;stroke-width:1.5;\"/>\r\n    </g>\r\n    <g id=\"line2d_45\"/>\r\n    <g id=\"text_12\">\r\n     <!-- valid -->\r\n     <g transform=\"translate(88.378125 132.020312)scale(0.1 -0.1)\">\r\n      <defs>\r\n       <path d=\"M 2.984375 54.6875 \r\nL 12.5 54.6875 \r\nL 29.59375 8.796875 \r\nL 46.6875 54.6875 \r\nL 56.203125 54.6875 \r\nL 35.6875 0 \r\nL 23.484375 0 \r\nz\r\n\" id=\"DejaVuSans-118\"/>\r\n       <path d=\"M 9.421875 75.984375 \r\nL 18.40625 75.984375 \r\nL 18.40625 0 \r\nL 9.421875 0 \r\nz\r\n\" id=\"DejaVuSans-108\"/>\r\n       <path d=\"M 45.40625 46.390625 \r\nL 45.40625 75.984375 \r\nL 54.390625 75.984375 \r\nL 54.390625 0 \r\nL 45.40625 0 \r\nL 45.40625 8.203125 \r\nQ 42.578125 3.328125 38.25 0.953125 \r\nQ 33.9375 -1.421875 27.875 -1.421875 \r\nQ 17.96875 -1.421875 11.734375 6.484375 \r\nQ 5.515625 14.40625 5.515625 27.296875 \r\nQ 5.515625 40.1875 11.734375 48.09375 \r\nQ 17.96875 56 27.875 56 \r\nQ 33.9375 56 38.25 53.625 \r\nQ 42.578125 51.265625 45.40625 46.390625 \r\nz\r\nM 14.796875 27.296875 \r\nQ 14.796875 17.390625 18.875 11.75 \r\nQ 22.953125 6.109375 30.078125 6.109375 \r\nQ 37.203125 6.109375 41.296875 11.75 \r\nQ 45.40625 17.390625 45.40625 27.296875 \r\nQ 45.40625 37.203125 41.296875 42.84375 \r\nQ 37.203125 48.484375 30.078125 48.484375 \r\nQ 22.953125 48.484375 18.875 42.84375 \r\nQ 14.796875 37.203125 14.796875 27.296875 \r\nz\r\n\" id=\"DejaVuSans-100\"/>\r\n      </defs>\r\n      <use xlink:href=\"#DejaVuSans-118\"/>\r\n      <use x=\"59.179688\" xlink:href=\"#DejaVuSans-97\"/>\r\n      <use x=\"120.458984\" xlink:href=\"#DejaVuSans-108\"/>\r\n      <use x=\"148.242188\" xlink:href=\"#DejaVuSans-105\"/>\r\n      <use x=\"176.025391\" xlink:href=\"#DejaVuSans-100\"/>\r\n     </g>\r\n    </g>\r\n   </g>\r\n  </g>\r\n </g>\r\n <defs>\r\n  <clipPath id=\"pc8c6cacb1b\">\r\n   <rect height=\"135.9\" width=\"195.3\" x=\"51.378125\" y=\"7.2\"/>\r\n  </clipPath>\r\n </defs>\r\n</svg>\r\n"
     },
     "metadata": {
      "needs_background": "light"
     },
     "output_type": "display_data"
    },
    {
     "name": "stdout",
     "text": [
      "fold 0, train mse: 0.004999, valid mse: 0.017611\n"
     ],
     "output_type": "stream"
    },
    {
     "traceback": [
      "\u001b[1;31m---------------------------------------------------------------------------\u001b[0m",
      "\u001b[1;31mKeyboardInterrupt\u001b[0m                         Traceback (most recent call last)",
      "\u001b[1;32m<ipython-input-22-b647bb0b1e40>\u001b[0m in \u001b[0;36m<module>\u001b[1;34m\u001b[0m\n\u001b[0;32m      1\u001b[0m \u001b[0mk\u001b[0m\u001b[1;33m,\u001b[0m \u001b[0mnum_epochs\u001b[0m\u001b[1;33m,\u001b[0m \u001b[0mlr\u001b[0m\u001b[1;33m,\u001b[0m \u001b[0mbatch_size\u001b[0m \u001b[1;33m=\u001b[0m \u001b[1;36m5\u001b[0m\u001b[1;33m,\u001b[0m \u001b[1;36m1500\u001b[0m\u001b[1;33m,\u001b[0m \u001b[1;36m.0003\u001b[0m\u001b[1;33m,\u001b[0m \u001b[1;36m12\u001b[0m\u001b[1;33m\u001b[0m\u001b[1;33m\u001b[0m\u001b[0m\n\u001b[0;32m      2\u001b[0m train_l, valid_l = k_fold(k, train_features, train_labels, num_epochs, lr,\n\u001b[1;32m----> 3\u001b[1;33m                           batch_size)\n\u001b[0m\u001b[0;32m      4\u001b[0m print('%d-fold validation: avg train rmse: %f, avg valid rmse: %f'\n\u001b[0;32m      5\u001b[0m       % (k, train_l, valid_l))\n",
      "\u001b[1;32m<ipython-input-21-731f3848d33b>\u001b[0m in \u001b[0;36mk_fold\u001b[1;34m(k, X_train, y_train, num_epochs, learning_rate, batch_size)\u001b[0m\n\u001b[0;32m      6\u001b[0m         \u001b[0mnet\u001b[0m \u001b[1;33m=\u001b[0m \u001b[0mMLP\u001b[0m\u001b[1;33m(\u001b[0m\u001b[0mall_features\u001b[0m\u001b[1;33m.\u001b[0m\u001b[0mshape\u001b[0m\u001b[1;33m[\u001b[0m\u001b[1;36m1\u001b[0m\u001b[1;33m]\u001b[0m\u001b[1;33m)\u001b[0m\u001b[1;33m\u001b[0m\u001b[1;33m\u001b[0m\u001b[0m\n\u001b[0;32m      7\u001b[0m         train_ls, valid_ls = train(net, *data, num_epochs, learning_rate,\n\u001b[1;32m----> 8\u001b[1;33m                                    batch_size)\n\u001b[0m\u001b[0;32m      9\u001b[0m         \u001b[0mtrain_l_sum\u001b[0m \u001b[1;33m+=\u001b[0m \u001b[0mtrain_ls\u001b[0m\u001b[1;33m[\u001b[0m\u001b[1;33m-\u001b[0m\u001b[1;36m1\u001b[0m\u001b[1;33m]\u001b[0m\u001b[1;33m\u001b[0m\u001b[1;33m\u001b[0m\u001b[0m\n\u001b[0;32m     10\u001b[0m         \u001b[0mvalid_l_sum\u001b[0m \u001b[1;33m+=\u001b[0m \u001b[0mvalid_ls\u001b[0m\u001b[1;33m[\u001b[0m\u001b[1;33m-\u001b[0m\u001b[1;36m1\u001b[0m\u001b[1;33m]\u001b[0m\u001b[1;33m\u001b[0m\u001b[1;33m\u001b[0m\u001b[0m\n",
      "\u001b[1;32m<ipython-input-18-9a2dde577202>\u001b[0m in \u001b[0;36mtrain\u001b[1;34m(net, train_features, train_labels, test_features, test_labels, num_epochs, learning_rate, batch_size)\u001b[0m\n\u001b[0;32m     16\u001b[0m             \u001b[0moptimizer\u001b[0m\u001b[1;33m.\u001b[0m\u001b[0mzero_grad\u001b[0m\u001b[1;33m(\u001b[0m\u001b[1;33m)\u001b[0m\u001b[1;33m\u001b[0m\u001b[1;33m\u001b[0m\u001b[0m\n\u001b[0;32m     17\u001b[0m             \u001b[0mloss\u001b[0m\u001b[1;33m.\u001b[0m\u001b[0mbackward\u001b[0m\u001b[1;33m(\u001b[0m\u001b[1;33m)\u001b[0m\u001b[1;33m\u001b[0m\u001b[1;33m\u001b[0m\u001b[0m\n\u001b[1;32m---> 18\u001b[1;33m             \u001b[0moptimizer\u001b[0m\u001b[1;33m.\u001b[0m\u001b[0mstep\u001b[0m\u001b[1;33m(\u001b[0m\u001b[1;33m)\u001b[0m\u001b[1;33m\u001b[0m\u001b[1;33m\u001b[0m\u001b[0m\n\u001b[0m\u001b[0;32m     19\u001b[0m \u001b[1;33m\u001b[0m\u001b[0m\n\u001b[0;32m     20\u001b[0m         \u001b[0mtrain_ls\u001b[0m\u001b[1;33m.\u001b[0m\u001b[0mappend\u001b[0m\u001b[1;33m(\u001b[0m\u001b[0mloss\u001b[0m\u001b[1;33m)\u001b[0m\u001b[1;33m\u001b[0m\u001b[1;33m\u001b[0m\u001b[0m\n",
      "\u001b[1;32m~\\Anaconda3\\envs\\DataScience\\lib\\site-packages\\torch\\autograd\\grad_mode.py\u001b[0m in \u001b[0;36mdecorate_context\u001b[1;34m(*args, **kwargs)\u001b[0m\n\u001b[0;32m     13\u001b[0m         \u001b[1;32mdef\u001b[0m \u001b[0mdecorate_context\u001b[0m\u001b[1;33m(\u001b[0m\u001b[1;33m*\u001b[0m\u001b[0margs\u001b[0m\u001b[1;33m,\u001b[0m \u001b[1;33m**\u001b[0m\u001b[0mkwargs\u001b[0m\u001b[1;33m)\u001b[0m\u001b[1;33m:\u001b[0m\u001b[1;33m\u001b[0m\u001b[1;33m\u001b[0m\u001b[0m\n\u001b[0;32m     14\u001b[0m             \u001b[1;32mwith\u001b[0m \u001b[0mself\u001b[0m\u001b[1;33m:\u001b[0m\u001b[1;33m\u001b[0m\u001b[1;33m\u001b[0m\u001b[0m\n\u001b[1;32m---> 15\u001b[1;33m                 \u001b[1;32mreturn\u001b[0m \u001b[0mfunc\u001b[0m\u001b[1;33m(\u001b[0m\u001b[1;33m*\u001b[0m\u001b[0margs\u001b[0m\u001b[1;33m,\u001b[0m \u001b[1;33m**\u001b[0m\u001b[0mkwargs\u001b[0m\u001b[1;33m)\u001b[0m\u001b[1;33m\u001b[0m\u001b[1;33m\u001b[0m\u001b[0m\n\u001b[0m\u001b[0;32m     16\u001b[0m         \u001b[1;32mreturn\u001b[0m \u001b[0mdecorate_context\u001b[0m\u001b[1;33m\u001b[0m\u001b[1;33m\u001b[0m\u001b[0m\n\u001b[0;32m     17\u001b[0m \u001b[1;33m\u001b[0m\u001b[0m\n",
      "\u001b[1;32m~\\Anaconda3\\envs\\DataScience\\lib\\site-packages\\torch\\optim\\adam.py\u001b[0m in \u001b[0;36mstep\u001b[1;34m(self, closure)\u001b[0m\n\u001b[0;32m    105\u001b[0m                     \u001b[0mdenom\u001b[0m \u001b[1;33m=\u001b[0m \u001b[1;33m(\u001b[0m\u001b[0mmax_exp_avg_sq\u001b[0m\u001b[1;33m.\u001b[0m\u001b[0msqrt\u001b[0m\u001b[1;33m(\u001b[0m\u001b[1;33m)\u001b[0m \u001b[1;33m/\u001b[0m \u001b[0mmath\u001b[0m\u001b[1;33m.\u001b[0m\u001b[0msqrt\u001b[0m\u001b[1;33m(\u001b[0m\u001b[0mbias_correction2\u001b[0m\u001b[1;33m)\u001b[0m\u001b[1;33m)\u001b[0m\u001b[1;33m.\u001b[0m\u001b[0madd_\u001b[0m\u001b[1;33m(\u001b[0m\u001b[0mgroup\u001b[0m\u001b[1;33m[\u001b[0m\u001b[1;34m'eps'\u001b[0m\u001b[1;33m]\u001b[0m\u001b[1;33m)\u001b[0m\u001b[1;33m\u001b[0m\u001b[1;33m\u001b[0m\u001b[0m\n\u001b[0;32m    106\u001b[0m                 \u001b[1;32melse\u001b[0m\u001b[1;33m:\u001b[0m\u001b[1;33m\u001b[0m\u001b[1;33m\u001b[0m\u001b[0m\n\u001b[1;32m--> 107\u001b[1;33m                     \u001b[0mdenom\u001b[0m \u001b[1;33m=\u001b[0m \u001b[1;33m(\u001b[0m\u001b[0mexp_avg_sq\u001b[0m\u001b[1;33m.\u001b[0m\u001b[0msqrt\u001b[0m\u001b[1;33m(\u001b[0m\u001b[1;33m)\u001b[0m \u001b[1;33m/\u001b[0m \u001b[0mmath\u001b[0m\u001b[1;33m.\u001b[0m\u001b[0msqrt\u001b[0m\u001b[1;33m(\u001b[0m\u001b[0mbias_correction2\u001b[0m\u001b[1;33m)\u001b[0m\u001b[1;33m)\u001b[0m\u001b[1;33m.\u001b[0m\u001b[0madd_\u001b[0m\u001b[1;33m(\u001b[0m\u001b[0mgroup\u001b[0m\u001b[1;33m[\u001b[0m\u001b[1;34m'eps'\u001b[0m\u001b[1;33m]\u001b[0m\u001b[1;33m)\u001b[0m\u001b[1;33m\u001b[0m\u001b[1;33m\u001b[0m\u001b[0m\n\u001b[0m\u001b[0;32m    108\u001b[0m \u001b[1;33m\u001b[0m\u001b[0m\n\u001b[0;32m    109\u001b[0m                 \u001b[0mstep_size\u001b[0m \u001b[1;33m=\u001b[0m \u001b[0mgroup\u001b[0m\u001b[1;33m[\u001b[0m\u001b[1;34m'lr'\u001b[0m\u001b[1;33m]\u001b[0m \u001b[1;33m/\u001b[0m \u001b[0mbias_correction1\u001b[0m\u001b[1;33m\u001b[0m\u001b[1;33m\u001b[0m\u001b[0m\n",
      "\u001b[1;31mKeyboardInterrupt\u001b[0m: "
     ],
     "ename": "KeyboardInterrupt",
     "evalue": "",
     "output_type": "error"
    }
   ]
  },
  {
   "cell_type": "markdown",
   "metadata": {
    "id": "DoV4Ox2K9nm3",
    "colab_type": "text"
   },
   "source": [
    "You will notice that sometimes the number of training errors for a set of hyper-parameters can be very low, while the number of errors for the $K$-fold cross validation may be higher. This is most likely a consequence of overfitting. Therefore, when we reduce the amount of training errors, we need to check whether the amount of errors in the k-fold cross-validation have also been reduced accordingly.\n",
    "\n",
    "##  Predict and Submit\n",
    "\n",
    "Now that we know what a good choice of hyperparameters should be, we might as well use all the data to train on it (rather than just $1-1/k$ of the data that is used in the crossvalidation slices). The model that we obtain in this way can then be applied to the test set. Saving the estimates in a CSV file will simplify uploading the results to Kaggle."
   ]
  },
  {
   "cell_type": "code",
   "metadata": {
    "id": "2Saps5iS9okQ",
    "colab_type": "code",
    "colab": {},
    "pycharm": {
     "is_executing": false
    }
   },
   "source": [
    "def train_and_pred(train_features, test_feature, train_labels, test_data,\n",
    "                   num_epochs, lr, batch_size):\n",
    "    net = MLP(all_features.shape[1])\n",
    "    train_ls, _ = train(net, train_features, train_labels, None, None,\n",
    "                        num_epochs, lr, batch_size)\n",
    "    semilogy(range(1, num_epochs + 1), train_ls, 'epochs', 'rmse')\n",
    "    print('train rmse %f' % train_ls[-1])\n",
    "    # apply the network to the test set\n",
    "    preds = net(torch.from_numpy(test_features).float()).data.numpy()\n",
    "    # reformat it for export to Kaggle\n",
    "    test_data['SalePrice'] = pd.Series(preds.reshape(1, -1)[0])\n",
    "    print(test_data['SalePrice'])\n",
    "    submission = pd.concat([test_data['Id'], test_data['SalePrice']], axis=1)\n",
    "    submission.to_csv('submission.csv', index=False)"
   ],
   "execution_count": null,
   "outputs": []
  },
  {
   "cell_type": "code",
   "metadata": {
    "id": "gb2BJDmU-GWU",
    "colab_type": "code",
    "outputId": "b0c433fd-0522-4998-e2c6-8e8e5ca4052f",
    "colab": {
     "base_uri": "https://localhost:8080/",
     "height": 279
    },
    "pycharm": {
     "is_executing": true
    }
   },
   "source": [
    "train_and_pred(train_features, test_features, train_labels, test_data,\n",
    "               num_epochs, lr, batch_size)"
   ],
   "execution_count": null,
   "outputs": []
  },
  {
   "cell_type": "markdown",
   "metadata": {
    "id": "X8bHvMd1--Tv",
    "colab_type": "text"
   },
   "source": [
    "A file, `submission.csv` will be generated by the code above (CSV is one of the file formats accepted by Kaggle).  Next, we can submit our predictions on Kaggle and compare them to the actual house price (label) on the testing data set, checking for errors. The steps are quite simple:\n",
    "\n",
    "* Log in to the Kaggle website and visit the House Price Prediction Competition page.\n",
    "* Click the “Submit Predictions” or “Late Submission” button on the right.\n",
    "* Click the “Upload Submission File” button in the dashed box at the bottom of the page and select the prediction file you wish to upload.\n",
    "* Click the “Make Submission” button at the bottom of the page to view your results."
   ]
  },
  {
   "cell_type": "markdown",
   "metadata": {
    "id": "RXZ9Wsd__Afe",
    "colab_type": "text"
   },
   "source": [
    "## Hints\n",
    "\n",
    "1. Can you improve your model by minimizing the log-price directly? What happens if you try to predict the log price rather than the price?\n",
    "1. Is it always a good idea to replace missing values by their mean? Hint - can you construct a situation where the values are not missing at random?\n",
    "1. Find a better representation to deal with missing values. Hint - What happens if you add an indicator variable?\n",
    "1. Improve the score on Kaggle by tuning the hyperparameters through k-fold crossvalidation.\n",
    "1. Improve the score by improving the model (layers, regularization, dropout).\n",
    "1. What happens if we do not standardize the continuous numerical features like we have done in this section?"
   ]
  }
 ],
 "metadata": {
  "colab": {
   "name": "HW3_house_price_prediction_sol.ipynb",
   "provenance": [],
   "collapsed_sections": []
  },
  "kernelspec": {
   "name": "python3",
   "display_name": "Python 3"
  },
  "pycharm": {
   "stem_cell": {
    "cell_type": "raw",
    "source": [],
    "metadata": {
     "collapsed": false
    }
   }
  }
 },
 "nbformat": 4,
 "nbformat_minor": 0
}