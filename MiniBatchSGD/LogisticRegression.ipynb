{
 "nbformat": 4,
 "nbformat_minor": 0,
 "metadata": {
  "kernelspec": {
   "display_name": "Python 3",
   "language": "python",
   "name": "python3"
  },
  "language_info": {
   "codemirror_mode": {
    "name": "ipython",
    "version": 3
   },
   "file_extension": ".py",
   "mimetype": "text/x-python",
   "name": "python",
   "nbconvert_exporter": "python",
   "pygments_lexer": "ipython3",
   "version": "3.6.4"
  },
  "colab": {
   "name": "HW2_logistic_regression.ipynb",
   "provenance": [],
   "collapsed_sections": [],
   "toc_visible": true
  }
 },
 "cells": [
  {
   "cell_type": "markdown",
   "metadata": {
    "id": "ueWmxIyWU8fG"
   },
   "source": [
    "# Homework 2\n",
    "\n",
    "**Name: Tyler Lott**\n",
    "\n",
    "**A-Number: A02230980**\n",
    "\n",
    "In this homework, we will implement a logistic regression from scratch. Your jobs\n",
    "\n",
    "1. Implement the objective function.\n",
    "\n",
    "2. Implement the stachastic gradident descent algorithm to train the logistic regression.\n",
    "\n",
    "3. Implement the mini-batch stachastic gradident descent algorithm to train the logistic regression.\n",
    "\n",
    "4. Submit the .IPYNB file to Canvas.\n",
    "    - Missing the output after execution may hurt your grade.\n",
    "\n",
    "\n",
    "**In this homework, you are not allowed to import other packages, such as PyTorch. You need to write the plain numpy code to implement the algorithms and cannot use sklearn in your implementation.**\n",
    "\n",
    "When computing the gradient and objective function value for GD and mini-batch SGD algorithms, use matrix-vector multiplication rather than a FOR LOOP of vector-vector multiplications.\n",
    "\n",
    "**Bonus (3pt)**: add a regularization term to the objective function and train the model based on the new objective function.\n",
    "\n",
    "# 1. Data processing\n",
    "\n",
    "- Download the Diabete dataset from https://www.csie.ntu.edu.tw/~cjlin/libsvmtools/datasets/binary/diabetes\n",
    "- Load the data using sklearn.\n",
    "- Preprocess the data.\n",
    "\n",
    "## 1.1. Load the data"
   ]
  },
  {
   "cell_type": "code",
   "metadata": {
    "id": "CCZ96G9VLTvN",
    "outputId": "4c477494-0dd1-4ddb-ee73-884d05d317c6",
    "colab": {
     "base_uri": "https://localhost:8080/",
     "height": 34
    },
    "pycharm": {
     "is_executing": false
    }
   },
   "source": [
    "# # Load the Drive helper and mount\n",
    "# from google.colab import drive\n",
    "\n",
    "# # This will prompt for authorization.\n",
    "# drive.mount('/content/drive')"
   ],
   "execution_count": 1,
   "outputs": []
  },
  {
   "cell_type": "code",
   "metadata": {
    "id": "FHa_HxmOU8fJ",
    "outputId": "f7d88af3-ad3a-4c63-a6a4-c7443007011a",
    "colab": {
     "base_uri": "https://localhost:8080/",
     "height": 51
    },
    "pycharm": {
     "is_executing": false
    }
   },
   "source": [
    "from sklearn import datasets\n",
    "from sklearn import preprocessing\n",
    "import numpy as np\n",
    "import math\n",
    "\n",
    "x_sparse, y = datasets.load_svmlight_file('diabetes.txt')\n",
    "x = x_sparse.toarray()\n",
    "lb = preprocessing.LabelBinarizer()\n",
    "y = lb.fit_transform(y).reshape(-1)\n",
    "print('Shape of x: ' + str(x.shape))\n",
    "print('Shape of y: ' + str(y.shape))"
   ],
   "execution_count": 2,
   "outputs": [
    {
     "name": "stdout",
     "text": [
      "Shape of x: (768, 8)\nShape of y: (768,)\n"
     ],
     "output_type": "stream"
    }
   ]
  },
  {
   "cell_type": "markdown",
   "metadata": {
    "id": "1_6NI-WOU8fP"
   },
   "source": [
    "## 1.2. Partition to training and test sets"
   ]
  },
  {
   "cell_type": "code",
   "metadata": {
    "id": "wY8k5eLOU8fP",
    "outputId": "d41087d4-81f6-4387-ee80-529abcaeafc1",
    "colab": {
     "base_uri": "https://localhost:8080/",
     "height": 85
    },
    "pycharm": {
     "is_executing": false
    }
   },
   "source": [
    "# partition the data to training and test sets\n",
    "n = x.shape[0]\n",
    "n_train = int(np.ceil(n * 0.8))\n",
    "n_test = n - n_train\n",
    "\n",
    "rand_indices = np.random.permutation(n)\n",
    "train_indices = rand_indices[0:n_train]\n",
    "test_indices = rand_indices[n_train:n]\n",
    "\n",
    "x_train = x[train_indices, :]\n",
    "x_test = x[test_indices, :]\n",
    "y_train = y[train_indices]\n",
    "y_test = y[test_indices]\n",
    "\n",
    "print('Shape of x_train: ' + str(x_train.shape))\n",
    "print('Shape of x_test: ' + str(x_test.shape))\n",
    "print('Shape of y_train: ' + str(y_train.shape))\n",
    "print('Shape of y_test: ' + str(y_test.shape))"
   ],
   "execution_count": 3,
   "outputs": [
    {
     "name": "stdout",
     "text": [
      "Shape of x_train: (615, 8)\nShape of x_test: (153, 8)\nShape of y_train: (615,)\nShape of y_test: (153,)\n"
     ],
     "output_type": "stream"
    }
   ]
  },
  {
   "cell_type": "markdown",
   "metadata": {
    "id": "GHbhxbJFU8fT"
   },
   "source": [
    "## 1.3. Feature scaling"
   ]
  },
  {
   "cell_type": "markdown",
   "metadata": {
    "id": "4T1oT_D-U8fU"
   },
   "source": [
    "Min-max normalization and standardization are two popular feature scaling methods.\n",
    "\n",
    "- Min-max normalization scales the features to the interval $[0, 1]$.\n",
    "- Standardization makes the features have zero mean and unit variance."
   ]
  },
  {
   "cell_type": "code",
   "metadata": {
    "id": "F320GXNdU8fV",
    "outputId": "5bf37b90-b112-4898-e993-b1c99199b5b8",
    "colab": {
     "base_uri": "https://localhost:8080/",
     "height": 204
    },
    "pycharm": {
     "is_executing": false
    }
   },
   "source": [
    "# Min-Max Normalization\n",
    "d = x.shape[1]\n",
    "xmin = np.min(x, axis=0).reshape(1, d)\n",
    "xmax = np.max(x, axis=0).reshape(1, d)\n",
    "xnew = (x - xmin) / (xmax - xmin)\n",
    "\n",
    "print(xnew)\n",
    "\n",
    "print('max = ')\n",
    "print(np.max(xnew, axis=0))\n",
    "\n",
    "print('min = ')\n",
    "print(np.min(xnew, axis=0))"
   ],
   "execution_count": 4,
   "outputs": [
    {
     "name": "stdout",
     "text": [
      "[[0.35294118 0.74371859 0.59016393 ... 0.50074514 0.23441503 0.48333333]\n [0.05882353 0.42713568 0.54098361 ... 0.39642326 0.11656704 0.16666667]\n [0.47058824 0.91959799 0.52459016 ... 0.34724292 0.25362938 0.18333333]\n ...\n [0.29411765 0.6080402  0.59016393 ... 0.39046202 0.07130658 0.15      ]\n [0.05882353 0.63316583 0.49180328 ... 0.44858422 0.11571307 0.43333333]\n [0.05882353 0.46733668 0.57377049 ... 0.45305516 0.10119556 0.03333333]]\nmax = \n[1. 1. 1. 1. 1. 1. 1. 1.]\nmin = \n[0. 0. 0. 0. 0. 0. 0. 0.]\n"
     ],
     "output_type": "stream"
    }
   ]
  },
  {
   "cell_type": "code",
   "metadata": {
    "id": "pLkMWyCOU8fZ",
    "outputId": "e8669e1d-cce7-4bc0-e5f1-12d428ba45c4",
    "colab": {
     "base_uri": "https://localhost:8080/",
     "height": 340
    },
    "pycharm": {
     "is_executing": false
    }
   },
   "source": [
    "# Standardization\n",
    "\n",
    "d = x.shape[1]\n",
    "mu = np.mean(x, axis=0).reshape(1, d)\n",
    "sig = np.std(x, axis=0).reshape(1, d)\n",
    "xnew = (x - mu) / sig\n",
    "\n",
    "print('xnew = ')\n",
    "print(xnew)\n",
    "\n",
    "print('mean = ')\n",
    "print(np.mean(xnew, axis=0))\n",
    "\n",
    "print('std = ')\n",
    "print(np.std(xnew, axis=0))"
   ],
   "execution_count": 5,
   "outputs": [
    {
     "name": "stdout",
     "text": [
      "xnew = \n[[ 0.63994726  0.84832379  0.14964075 ...  0.20401252  0.46849198\n   1.4259954 ]\n [-0.84488505 -1.12339636 -0.16054575 ... -0.68442195 -0.36506078\n  -0.19067191]\n [ 1.23388019  1.94372388 -0.26394125 ... -1.10325559  0.60439732\n  -0.10558415]\n ...\n [ 0.3429808   0.00330087  0.14964075 ... -0.73518952 -0.68519336\n  -0.27575966]\n [-0.84488505  0.1597866  -0.47073225 ... -0.24020459 -0.37110101\n   1.17073215]\n [-0.84488505 -0.8730192   0.04624525 ... -0.20212882 -0.47378505\n  -0.87137393]]\nmean = \n[-7.74843153e-17  3.61400724e-18 -1.32724416e-17  7.76288755e-17\n -5.49329101e-17  5.12683067e-15  1.92438658e-15  2.19297959e-16]\nstd = \n[1. 1. 1. 1. 1. 1. 1. 1.]\n"
     ],
     "output_type": "stream"
    }
   ]
  },
  {
   "cell_type": "markdown",
   "metadata": {
    "id": "ODJv-cZGU8fg"
   },
   "source": [
    "### In this homework, we use the standardization to trainsform both training and test features"
   ]
  },
  {
   "cell_type": "code",
   "metadata": {
    "id": "Hh16BVL1U8fh",
    "outputId": "75d150f9-0585-4434-9316-f80aa03add85",
    "colab": {
     "base_uri": "https://localhost:8080/",
     "height": 119
    },
    "pycharm": {
     "is_executing": false
    }
   },
   "source": [
    "# Standardization\n",
    "\n",
    "# calculate mu and sig using the training set\n",
    "d = x_train.shape[1]\n",
    "mu = np.mean(x_train, axis=0).reshape(1, d)\n",
    "sig = np.std(x_train, axis=0).reshape(1, d)\n",
    "\n",
    "# transform the training features\n",
    "x_train = (x_train - mu) / sig\n",
    "\n",
    "# transform the test features\n",
    "x_test = (x_test - mu) / sig\n",
    "\n",
    "\n",
    "print('test mean = ')\n",
    "print(np.mean(x_test, axis=0))\n",
    "\n",
    "print('test std = ')\n",
    "print(np.std(x_test, axis=0))"
   ],
   "execution_count": 6,
   "outputs": [
    {
     "name": "stdout",
     "text": [
      "test mean = \n[-0.01516369 -0.01745542  0.05487419  0.19644164  0.02221827 -0.06127007\n -0.02888454 -0.04383522]\ntest std = \n[0.97012867 0.8844638  0.80342961 0.91371686 0.94847961 0.93661575\n 0.95950953 0.93987973]\n"
     ],
     "output_type": "stream"
    }
   ]
  },
  {
   "cell_type": "markdown",
   "metadata": {
    "id": "TBn7Lj6AU8fp"
   },
   "source": [
    "# 2. Logistic regression model\n",
    "## Define the sigmoid function\n"
   ]
  },
  {
   "cell_type": "code",
   "metadata": {
    "id": "aK2j8pVKQ8OT",
    "pycharm": {
     "is_executing": false
    }
   },
   "source": [
    "def _sigmoid(z):\n",
    "    # Sigmoid function can be used to calculate probability.\n",
    "    # To avoid overflow, minimum/maximum output value is set.\n",
    "    return np.clip(1 / (1.0 + np.exp(-z)), 1e-8, 1 - (1e-8))\n",
    "\n",
    "def _f(X, w, b):\n",
    "    # This is the logistic regression function, parameterized by w and b\n",
    "    #\n",
    "    # Arguements:\n",
    "    #     X: input data, shape = [n or batch_size, data_dimension]\n",
    "    #     w: weight vector, shape = [data_dimension, ]\n",
    "    #     b: bias, scalar\n",
    "    # Output:\n",
    "    #     predicted probability of each row of X being positively labeled, shape = [n or batch_size, ]\n",
    "    return _sigmoid(np.matmul(X, w) + b)"
   ],
   "execution_count": 7,
   "outputs": []
  },
  {
   "cell_type": "markdown",
   "metadata": {
    "id": "xpld_Qg-RB1a"
   },
   "source": [
    "The objective function is $L(\\mathbf{w}; \\mathbf{X}, \\mathbf{y})=\\frac{1}{n} \\sum_{i=1}^n -[y_i \\log \\hat y_i + (1-y_i)\\log (1-\\hat y_i)]$, where $\\hat y_i = \\sigma (\\mathbf{w}^T \\mathbf{x}_i +b)$."
   ]
  },
  {
   "cell_type": "code",
   "metadata": {
    "id": "7me0eR0cU8fq",
    "pycharm": {
     "is_executing": false
    }
   },
   "source": [
    "def _cross_entropy_loss(y_pred, Y_label):\n",
    "    # This function computes the cross entropy.\n",
    "    #\n",
    "    # Arguements:\n",
    "    #     y_pred: probabilistic predictions, float vector\n",
    "    #     Y_label: ground truth labels,  vector\n",
    "    # Output:\n",
    "    #     cross entropy: scalar\n",
    "\n",
    "    ## write your code here\n",
    "    cross_entropy = -np.dot(Y_label, np.log(y_pred)) - np.dot((1 - Y_label), np.log(1 - y_pred))\n",
    "    \n",
    "    return cross_entropy"
   ],
   "execution_count": 8,
   "outputs": []
  },
  {
   "cell_type": "code",
   "metadata": {
    "id": "fhSa5351U8ft",
    "outputId": "71ec8865-dee2-46c4-acdf-3bc5995528d4",
    "colab": {
     "base_uri": "https://localhost:8080/",
     "height": 34
    },
    "pycharm": {
     "is_executing": false
    }
   },
   "source": [
    "# initialize w, b\n",
    "d = x_train.shape[1]\n",
    "w = np.zeros(d)\n",
    "b = np.zeros(1)\n",
    "# evaluate the objective function value at w\n",
    "y_pred = _f(x_train, w, b)\n",
    "objval0 = _cross_entropy_loss(y_pred, y_train)\n",
    "print('Initial objective function value = ' + str(objval0))"
   ],
   "execution_count": 9,
   "outputs": [
    {
     "name": "stdout",
     "text": [
      "Initial objective function value = 426.28551604436603\n"
     ],
     "output_type": "stream"
    }
   ]
  },
  {
   "cell_type": "markdown",
   "metadata": {
    "id": "mKtSRP2lU8fx"
   },
   "source": [
    "# 3. Numerical optimization"
   ]
  },
  {
   "cell_type": "markdown",
   "metadata": {
    "id": "UH9nycupU8fx"
   },
   "source": [
    "## 3.1. Calculate the full gradient\n",
    "\n",
    "The gradient at $w$ is $g = - \\frac{1}{n} \\sum_{i=1}^n [\\sigma (\\mathbf{w}^T \\mathbf{x}_i + b)-y_i]\\mathbf{x}_i$"
   ]
  },
  {
   "cell_type": "code",
   "metadata": {
    "id": "kWp8JOYBOFZX",
    "pycharm": {
     "is_executing": false
    }
   },
   "source": [
    "# Calculate the gradient\n",
    "# Inputs:\n",
    "#     X: n-by-d matrix\n",
    "#     Y_label: n-by-1 matrix\n",
    "#     w: d-by-1 matrix\n",
    "#     b: scalar\n",
    "# Return:\n",
    "#     w_grad: d-by-1 matrix, full gradient\n",
    "#     b_grad: scalar\n",
    "def _gradient(X, Y_label, w, b):\n",
    "    # This function computes the gradient of cross entropy loss with respect to weight w and bias b.\n",
    "    y_pred = _f(X, w, b)\n",
    "    pred_error = Y_label - y_pred\n",
    "    w_grad = -np.sum(pred_error * X.T, 1)\n",
    "    b_grad = -np.sum(pred_error)\n",
    "    return w_grad, b_grad"
   ],
   "execution_count": 10,
   "outputs": []
  },
  {
   "cell_type": "markdown",
   "metadata": {
    "id": "A2zIXNwnU8f2"
   },
   "source": [
    "## 3.2. Gradient descent\n"
   ]
  },
  {
   "cell_type": "code",
   "metadata": {
    "id": "1RBVx_34U8f2",
    "pycharm": {
     "is_executing": false
    }
   },
   "source": [
    "# Gradient descent for solving logistic regression\n",
    "# Inputs:\n",
    "#     x_train: n-by-d matrix\n",
    "#     y_train: n-by-1 matrix\n",
    "#     stepsize: scalar\n",
    "#     max_iter: integer, the maximal iterations\n",
    "# Return:\n",
    "#     w: d-by-1 matrix, the solution\n",
    "#     b: scalr, the solution\n",
    "#     objvals: a record of each epoch's objective value\n",
    "def grad_descent(x_train, y_train, w, b, stepsize, max_iter=50):\n",
    "    n, d = x_train.shape\n",
    "    objvals = np.zeros(max_iter) # store the objective values\n",
    "    \n",
    "    for t in range(max_iter):\n",
    "        y_pred = _f(x_train, w, b)\n",
    "        objval = _cross_entropy_loss(y_pred, y_train)\n",
    "        objvals[t] = objval/n\n",
    "        print('Objective value at t=' + str(t) + ' is ' + str(objval/n))\n",
    "        w_grad, b_grad = _gradient(x_train, y_train, w, b)\n",
    "        w -= stepsize * w_grad\n",
    "        b -= stepsize * b_grad\n",
    "    \n",
    "    return w, b, objvals"
   ],
   "execution_count": 11,
   "outputs": []
  },
  {
   "cell_type": "code",
   "metadata": {
    "id": "ZNZqy-TbU8f7",
    "outputId": "2fecdfbf-1e3b-4238-feda-f3fe2ea464a3",
    "colab": {
     "base_uri": "https://localhost:8080/",
     "height": 867
    },
    "pycharm": {
     "is_executing": false
    }
   },
   "source": [
    "# example\n",
    "d = x_train.shape[1]\n",
    "w = np.zeros(d)\n",
    "b = np.zeros(1)\n",
    "stepsize = 0.01\n",
    "w, b, objvals_gd = grad_descent(x_train, y_train, w, b, stepsize)"
   ],
   "execution_count": 12,
   "outputs": [
    {
     "name": "stdout",
     "text": [
      "Objective value at t=0 is 0.6931471805599447\nObjective value at t=1 is 0.563947008066938\nObjective value at t=2 is 0.4787771235906713\nObjective value at t=3 is 0.47396047104604994\nObjective value at t=4 is 0.4722370031759795\nObjective value at t=5 is 0.47170888367957087\nObjective value at t=6 is 0.4714180588201511\nObjective value at t=7 is 0.4713047694012493\nObjective value at t=8 is 0.47124012581733005\nObjective value at t=9 is 0.47121187667479425\nObjective value at t=10 is 0.47119438946735437\nObjective value at t=11 is 0.47118576697337794\nObjective value at t=12 is 0.4711794003526226\nObjective value at t=13 is 0.4711756664530202\nObjective value at t=14 is 0.4711723046806546\nObjective value at t=15 is 0.4711699839325547\nObjective value at t=16 is 0.4711676606923183\nObjective value at t=17 is 0.4711658987829508\nObjective value at t=18 is 0.4711640868237762\nObjective value at t=19 is 0.47116264951658904\nObjective value at t=20 is 0.47116117505287314\nObjective value at t=21 is 0.471159977934866\nObjective value at t=22 is 0.47115876127476464\nObjective value at t=23 is 0.4711577590054527\nObjective value at t=24 is 0.47115675027990733\nObjective value at t=25 is 0.47115591033456905\nObjective value at t=26 is 0.4711550724540159\nObjective value at t=27 is 0.471154368601815\nObjective value at t=28 is 0.4711536720094857\nObjective value at t=29 is 0.47115308237231146\nObjective value at t=30 is 0.47115250292813526\nObjective value at t=31 is 0.4711520091209463\nObjective value at t=32 is 0.47115152693151546\nObjective value at t=33 is 0.47115111349220573\nObjective value at t=34 is 0.4711507121036419\nObjective value at t=35 is 0.471150366036053\nObjective value at t=36 is 0.4711500318149497\nObjective value at t=37 is 0.47114974220352346\nObjective value at t=38 is 0.47114946384137635\nObjective value at t=39 is 0.47114922152378347\nObjective value at t=40 is 0.47114898963342905\nObjective value at t=41 is 0.47114878692293866\nObjective value at t=42 is 0.47114859370745943\nObjective value at t=43 is 0.4711484241581093\nObjective value at t=44 is 0.47114826313818237\nObjective value at t=45 is 0.47114812134655687\nObjective value at t=46 is 0.471147987135436\nObjective value at t=47 is 0.47114786857358815\nObjective value at t=48 is 0.4711477566911273\nObjective value at t=49 is 0.47114765756590193\n"
     ],
     "output_type": "stream"
    }
   ]
  },
  {
   "cell_type": "markdown",
   "metadata": {
    "id": "gVrjVsv0U8f-"
   },
   "source": [
    "## 3.3. Stochastic gradient descent (SGD)\n",
    "\n",
    "Define $L_i(\\mathbf{w}; \\mathbf{x}, y)= -[y_i \\log \\hat y_i + (1-y_i)\\log (1-\\hat y_i)]$, where $\\hat y_i = \\sigma (\\mathbf{w}^T \\mathbf{x}_i +b)$.\n",
    "\n",
    "The stochastic gradient at $w$ is $g_i = \\frac{\\partial L_i }{ \\partial w} = [\\sigma (\\mathbf{w}^T \\mathbf{x}_i + b)-y_i]\\mathbf{x}_i$."
   ]
  },
  {
   "cell_type": "code",
   "metadata": {
    "id": "RwJeIIOHU8f-",
    "pycharm": {
     "is_executing": false
    }
   },
   "source": [
    "# Calculate the objective L_i and the gradient of L_i\n",
    "# Inputs (you can revise the inputs of this function):\n",
    "#     xi: 1-by-d matrix\n",
    "#     yi: scalar\n",
    "#     w: d-by-1 matrix\n",
    "#     b: scalar\n",
    "# Return:\n",
    "#     w_grad: d-by-1 matrix, gradient of L_i with respect to w\n",
    "#     b_grad: scalr, gradient of L_i with respect to b\n",
    "def stochastic_objective_gradient(xi, yi, w, b):\n",
    "\n",
    "    y_pred = _f(xi, w, b)\n",
    "    pred_error = yi - y_pred\n",
    "    w_grad = -pred_error * xi\n",
    "    b_grad = -pred_error\n",
    "    return w_grad, b_grad\n",
    "\n",
    "    return w_grad, b_grad"
   ],
   "execution_count": 13,
   "outputs": []
  },
  {
   "cell_type": "code",
   "metadata": {
    "id": "BTZtZdhbU8gE",
    "pycharm": {
     "is_executing": false
    }
   },
   "source": [
    "# SGD for solving logistic regression\n",
    "# Inputs:\n",
    "#     x_train: n-by-d matrix\n",
    "#     y_train: n-by-1 matrix\n",
    "#     w: d-by-1 matrix, initialization of w\n",
    "#     b: scalr, initialization of b\n",
    "#     stepsize: scalar\n",
    "#     max_epoch: integer, the maximal epochs\n",
    "# Return:\n",
    "#     w: the solution\n",
    "#     b: the solution\n",
    "#     objvals: record of each epoch's objective value\n",
    "def sgd(x_train, y_train, w, b, stepsize, max_epoch=50):\n",
    "    n, d = x_train.shape\n",
    "    objvals = np.zeros(max_epoch) # store the objective values\n",
    "    for t in range(max_epoch):\n",
    "        # randomly shuffle the samples\n",
    "        rand_indices = np.random.permutation(n)\n",
    "        x_rand = x_train[rand_indices, :]\n",
    "        y_rand = y_train[rand_indices]\n",
    "        \n",
    "        objval = 0 # accumulate the objective values\n",
    "        for i in range(n):\n",
    "            xi = x_rand[i, :] # 1-by-d matrix\n",
    "            yi = float(y_rand[i]) # scalar\n",
    "            y_pred = _f(xi, w, b)\n",
    "            obj = float(_cross_entropy_loss(y_pred, yi))\n",
    "            w_grad, b_grad = stochastic_objective_gradient(xi, yi, w, b)\n",
    "            objval += obj\n",
    "            w -= stepsize * w_grad\n",
    "            b -= stepsize * b_grad\n",
    "        \n",
    "        stepsize *= 0.9 # decrease step size\n",
    "        objvals[t] = objval/n\n",
    "        print('Objective value at epoch t=' + str(t) + ' is ' + str(objval/n))\n",
    "    \n",
    "    return w, b, objvals"
   ],
   "execution_count": 14,
   "outputs": []
  },
  {
   "cell_type": "code",
   "metadata": {
    "id": "iWwrX2IUU8gH",
    "outputId": "e329f8bb-687b-4835-e94e-f7ebf7e43162",
    "colab": {
     "base_uri": "https://localhost:8080/",
     "height": 867
    },
    "pycharm": {
     "is_executing": false
    }
   },
   "source": [
    "# example\n",
    "# initialize w, b\n",
    "d = x_train.shape[1]\n",
    "w = np.zeros(d)\n",
    "b = np.zeros(1)\n",
    "stepsize = 0.1\n",
    "w, b, objvals_sgd = sgd(x_train, y_train, w, b, stepsize)"
   ],
   "execution_count": 15,
   "outputs": [
    {
     "name": "stdout",
     "text": [
      "Objective value at epoch t=0 is 0.5310082010064432",
      "\nObjective value at epoch t=1 is 0.5175683395569333\nObjective value at epoch t=2 is 0.5124386540025023",
      "\nObjective value at epoch t=3 is 0.5082732823713367\nObjective value at epoch t=4 is 0.5069548810637732\nObjective value at epoch t=5 is 0.5044547299232038\n",
      "Objective value at epoch t=6 is 0.5061530288464098\nObjective value at epoch t=7 is 0.49322329000272463\nObjective value at epoch t=8 is 0.4975522433921912\n",
      "Objective value at epoch t=9 is 0.48251106062926713\nObjective value at epoch t=10 is 0.49421171056589114\nObjective value at epoch t=11 is 0.4913830528237256\nObjective value at epoch t=12 is 0.4881529193163539",
      "\nObjective value at epoch t=13 is 0.48723087477190985\nObjective value at epoch t=14 is 0.48542892527882886",
      "\nObjective value at epoch t=15 is 0.4845509485845368\nObjective value at epoch t=16 is 0.4811975882109024\nObjective value at epoch t=17 is 0.4805822900810414\nObjective value at epoch t=18 is 0.4818480615954618",
      "\nObjective value at epoch t=19 is 0.47972577984048853\nObjective value at epoch t=20 is 0.4785299616709742",
      "\nObjective value at epoch t=21 is 0.47890100271560715\nObjective value at epoch t=22 is 0.47814411206610363\nObjective value at epoch t=23 is 0.47745431966316204\nObjective value at epoch t=24 is 0.4768061685836044",
      "\nObjective value at epoch t=25 is 0.4762584955570167\n",
      "Objective value at epoch t=26 is 0.4757675058613049\nObjective value at epoch t=27 is 0.47518571299388834\nObjective value at epoch t=28 is 0.47487227623404793\nObjective value at epoch t=29 is 0.4744876177882789",
      "\nObjective value at epoch t=30 is 0.4741588559185604\nObjective value at epoch t=31 is 0.4737690633311951\nObjective value at epoch t=32 is 0.47364643199049433\n",
      "Objective value at epoch t=33 is 0.47342370379373744\nObjective value at epoch t=34 is 0.4730103480390816\n",
      "Objective value at epoch t=35 is 0.47295456849374806\nObjective value at epoch t=36 is 0.47277714345641525\nObjective value at epoch t=37 is 0.47258063573137166\nObjective value at epoch t=38 is 0.4725148764859542",
      "\nObjective value at epoch t=39 is 0.47236664187977423\nObjective value at epoch t=40 is 0.4722514102397442",
      "\nObjective value at epoch t=41 is 0.47212722071543833\nObjective value at epoch t=42 is 0.4720379808632358\nObjective value at epoch t=43 is 0.4719472433492441",
      "\nObjective value at epoch t=44 is 0.4718729952343093\nObjective value at epoch t=45 is 0.47179909488236504\n",
      "Objective value at epoch t=46 is 0.4717321990998117\nObjective value at epoch t=47 is 0.47168037874685587\nObjective value at epoch t=48 is 0.471623063301295",
      "\nObjective value at epoch t=49 is 0.4715770570681949\n"
     ],
     "output_type": "stream"
    }
   ]
  },
  {
   "cell_type": "markdown",
   "metadata": {
    "id": "aYKci7dWU8gN"
   },
   "source": [
    "## 3.3. Mini-batch SGD\n",
    "\n",
    "Define $L_I(\\mathbf{w}; \\mathbf{X}, \\mathbf{y})=\\frac{1}{b} \\sum_{i \\in I} -[y_i \\log \\hat y_i + (1-y_i)\\log (1-\\hat y_i)]$, where $\\hat y_i = \\sigma (\\mathbf{w}^T \\mathbf{x}_i +b)$, and $I$ is a set containing $b$ indices randomly drawn from $\\{ 1, \\cdots , n \\}$ without replacement.\n",
    "\n",
    "\n",
    "\n",
    "The stochastic gradient at $w$ is $g_I = - \\frac{1}{b} \\sum_{i \\in I} [\\sigma (\\mathbf{w}^T \\mathbf{x}_i + b)-y_i]\\mathbf{x}_i$."
   ]
  },
  {
   "cell_type": "code",
   "metadata": {
    "id": "6Owyb4YcXC09",
    "pycharm": {
     "is_executing": false
    }
   },
   "source": [
    "# mini_batch_SGD for solving logistic regression\n",
    "# Inputs:\n",
    "#     x_train: n-by-d matrix\n",
    "#     y_train: n-by-1 matrix\n",
    "#     w: d-by-1 matrix, initialization of w\n",
    "#     b: scalar, initialization of b\n",
    "#     stepsize: scalar\n",
    "#     batch_size: integer, the number of batch size\n",
    "#     max_epoch: integer, the maximal epochs\n",
    "# Return:\n",
    "#     w: the solution\n",
    "#     b: the solution\n",
    "#     objvals: record of each epoch's objective value\n",
    "def mini_batch_sgd(x_train, y_train, w, b, stepsize, batch_size=32, max_epoch=50):\n",
    "    n, d = x_train.shape\n",
    "    objvals = np.zeros(max_epoch) # store the objective values\n",
    "    \n",
    "    for t in range(max_epoch):\n",
    "      # randomly shuffle the samples\n",
    "      rand_indices = np.random.permutation(n)\n",
    "      x_rand = x_train[rand_indices, :]\n",
    "      y_rand = y_train[rand_indices]\n",
    "      \n",
    "      objval = 0 # accumulate the objective values\n",
    "      for i in range(int(n / batch_size)): # batches the total dataset\n",
    "\n",
    "        xi = x_rand[(batch_size * i):(batch_size * (i+1)), :] # batch-by-d matrix\n",
    "        yi = y_rand[(batch_size * i):(batch_size * (i+1))] # 1-by-batch matrix\n",
    "        y_pred = _f(xi, w, b)\n",
    "        obj = _cross_entropy_loss(y_pred, yi)\n",
    "        w_grad, b_grad = _gradient(xi, yi, w, b) # gradient is used and summed by the batch not total\n",
    "        w -= stepsize * w_grad\n",
    "        b -= stepsize * b_grad\n",
    "\n",
    "        objval += obj\n",
    "        \n",
    "        # objval /= batch_iter_num\n",
    "        # objval = objective(w, x, y, lam)\n",
    "      objvals[t] = objval / n # mean objval from epoch\n",
    "      stepsize *= 0.9 # decrease step size\n",
    "      print('Objective value at epoch t=' + str(t) + ' is ' + str(objvals[t]))\n",
    "    \n",
    "    return w, b, objvals"
   ],
   "execution_count": 16,
   "outputs": []
  },
  {
   "cell_type": "code",
   "metadata": {
    "id": "lkhRPei-a8l-",
    "outputId": "ff94f386-1504-469b-b524-805a19da95bd",
    "colab": {
     "base_uri": "https://localhost:8080/",
     "height": 867
    },
    "pycharm": {
     "is_executing": false
    }
   },
   "source": [
    "# example\n",
    "d = x_train.shape[1]\n",
    "w = np.zeros(d)\n",
    "b = np.zeros(1)\n",
    "stepsize = 0.01\n",
    "w, b, objvals_mini_sgd = mini_batch_sgd(x_train, y_train, w, b, stepsize)"
   ],
   "execution_count": 17,
   "outputs": [
    {
     "name": "stdout",
     "text": [
      "Objective value at epoch t=0 is 0.5524717857622738\nObjective value at epoch t=1 is 0.4895494467508453\nObjective value at epoch t=2 is 0.4769506709444257\nObjective value at epoch t=3 is 0.47165450600246234\nObjective value at epoch t=4 is 0.4726950866038123\nObjective value at epoch t=5 is 0.47209700045568004\nObjective value at epoch t=6 is 0.46789087990871664\nObjective value at epoch t=7 is 0.4706583438227892\nObjective value at epoch t=8 is 0.46765214224287294\nObjective value at epoch t=9 is 0.4688325248487048\nObjective value at epoch t=10 is 0.4708800102990792\nObjective value at epoch t=11 is 0.47077733768802293\nObjective value at epoch t=12 is 0.4680798146677132\nObjective value at epoch t=13 is 0.46429658064783774\nObjective value at epoch t=14 is 0.46750289639031206\nObjective value at epoch t=15 is 0.466674098791021\nObjective value at epoch t=16 is 0.4665949692724893\nObjective value at epoch t=17 is 0.46672809188468867\nObjective value at epoch t=18 is 0.46586910741492077\nObjective value at epoch t=19 is 0.46784245983277356\nObjective value at epoch t=20 is 0.4627774458371904\nObjective value at epoch t=21 is 0.466420663854956\nObjective value at epoch t=22 is 0.46723305113269176\nObjective value at epoch t=23 is 0.4695080530125033\nObjective value at epoch t=24 is 0.4667388155220808\nObjective value at epoch t=25 is 0.4683470028182191\nObjective value at epoch t=26 is 0.4606092654720692\nObjective value at epoch t=27 is 0.4691315442920296\nObjective value at epoch t=28 is 0.466489855679729\nObjective value at epoch t=29 is 0.4704421746468536",
      "\nObjective value at epoch t=30 is 0.4564402505090701\nObjective value at epoch t=31 is 0.46894896956794424\nObjective value at epoch t=32 is 0.469817618463293\nObjective value at epoch t=33 is 0.4651733158292614\nObjective value at epoch t=34 is 0.4636585221454187\nObjective value at epoch t=35 is 0.4660154722292488\nObjective value at epoch t=36 is 0.46494244884394803\nObjective value at epoch t=37 is 0.4641784687400847\nObjective value at epoch t=38 is 0.46127393304129155\nObjective value at epoch t=39 is 0.46536842628737957\nObjective value at epoch t=40 is 0.46205224669914546\nObjective value at epoch t=41 is 0.47003025989854125\nObjective value at epoch t=42 is 0.4680408911521779\nObjective value at epoch t=43 is 0.46895445949539954\nObjective value at epoch t=44 is 0.4650291255361435\nObjective value at epoch t=45 is 0.4664823645310852\nObjective value at epoch t=46 is 0.4683360596781284\nObjective value at epoch t=47 is 0.4677498843853497\nObjective value at epoch t=48 is 0.466865054643083\nObjective value at epoch t=49 is 0.4662919003998767\n"
     ],
     "output_type": "stream"
    }
   ]
  },
  {
   "cell_type": "markdown",
   "metadata": {
    "id": "hJm0NM49U8gK"
   },
   "source": [
    "### Compare GD, SGD, and mini batch SGD\n",
    "\n",
    "Plot objective function values against epochs."
   ]
  },
  {
   "cell_type": "code",
   "metadata": {
    "id": "zrMngP3MU8gK",
    "outputId": "19295890-4e09-4d84-b6cf-ce01cc066a59",
    "colab": {
     "base_uri": "https://localhost:8080/",
     "height": 297
    },
    "pycharm": {
     "is_executing": false
    }
   },
   "source": [
    "import matplotlib.pyplot as plt\n",
    "%matplotlib inline\n",
    "\n",
    "fig = plt.figure(figsize=(6, 4))\n",
    "\n",
    "epochs_gd = range(len(objvals_gd))\n",
    "epochs_sgd = range(len(objvals_sgd))\n",
    "epochs_mini_sgd = range(len(objvals_mini_sgd))\n",
    "\n",
    "line0, = plt.plot(epochs_gd, objvals_gd, '--b', LineWidth=2)\n",
    "line1, = plt.plot(epochs_sgd, objvals_sgd, '-r', LineWidth=2)\n",
    "line2, = plt.plot(epochs_mini_sgd, objvals_mini_sgd, '.-y', LineWidth=2)\n",
    "plt.xlabel('Epochs', FontSize=20)\n",
    "plt.ylabel('Objective Value', FontSize=20)\n",
    "plt.xticks(FontSize=16)\n",
    "plt.yticks(FontSize=16)\n",
    "plt.legend([line0, line1, line2], ['GD', 'SGD', 'batch SGD'], fontsize=20)\n",
    "plt.tight_layout()\n",
    "plt.show()\n",
    "fig.savefig('compare_gd_sgd.pdf', format='pdf', dpi=1200)"
   ],
   "execution_count": 18,
   "outputs": [
    {
     "name": "stderr",
     "text": [
      "C:\\Users\\Tyler\\Anaconda3\\envs\\DataScience\\lib\\site-packages\\ipykernel_launcher.py:10: MatplotlibDeprecationWarning: Case-insensitive properties were deprecated in 3.3 and support will be removed two minor releases later\n  # Remove the CWD from sys.path while we load stuff.\nC:\\Users\\Tyler\\Anaconda3\\envs\\DataScience\\lib\\site-packages\\ipykernel_launcher.py:11: MatplotlibDeprecationWarning: Case-insensitive properties were deprecated in 3.3 and support will be removed two minor releases later\n  # This is added back by InteractiveShellApp.init_path()\nC:\\Users\\Tyler\\Anaconda3\\envs\\DataScience\\lib\\site-packages\\ipykernel_launcher.py:12: MatplotlibDeprecationWarning: Case-insensitive properties were deprecated in 3.3 and support will be removed two minor releases later\n  if sys.path[0] == '':\nC:\\Users\\Tyler\\Anaconda3\\envs\\DataScience\\lib\\site-packages\\ipykernel_launcher.py:13: MatplotlibDeprecationWarning: Case-insensitive properties were deprecated in 3.3 and support will be removed two minor releases later\n  del sys.path[0]\nC:\\Users\\Tyler\\Anaconda3\\envs\\DataScience\\lib\\site-packages\\ipykernel_launcher.py:14: MatplotlibDeprecationWarning: Case-insensitive properties were deprecated in 3.3 and support will be removed two minor releases later\n  \nC:\\Users\\Tyler\\Anaconda3\\envs\\DataScience\\lib\\site-packages\\ipykernel_launcher.py:15: MatplotlibDeprecationWarning: Case-insensitive properties were deprecated in 3.3 and support will be removed two minor releases later\n  from ipykernel import kernelapp as app\nC:\\Users\\Tyler\\Anaconda3\\envs\\DataScience\\lib\\site-packages\\ipykernel_launcher.py:16: MatplotlibDeprecationWarning: Case-insensitive properties were deprecated in 3.3 and support will be removed two minor releases later\n  app.launch_new_instance()\n"
     ],
     "output_type": "stream"
    },
    {
     "data": {
      "text/plain": "<Figure size 432x288 with 1 Axes>",
      "image/png": "[encoded data removed]"
     },
     "metadata": {
      "needs_background": "light"
     },
     "output_type": "display_data"
    }
   ]
  },
  {
   "cell_type": "markdown",
   "metadata": {
    "id": "wzoBjLRuU8gN"
   },
   "source": [
    "# 4. Prediction"
   ]
  },
  {
   "cell_type": "code",
   "metadata": {
    "id": "RxBpOpWtU8gO",
    "pycharm": {
     "is_executing": false
    }
   },
   "source": [
    "# Predict class label\n",
    "# Inputs:\n",
    "#     w: d-by-1 matrix\n",
    "#     X: m-by-d matrix\n",
    "# Return:\n",
    "#     f: m-by-1 matrix, the predictions\n",
    "def predict(w, X):\n",
    "    xw = np.dot(X, w)\n",
    "    f = np.sign(xw)\n",
    "    return f"
   ],
   "execution_count": 19,
   "outputs": []
  },
  {
   "cell_type": "code",
   "metadata": {
    "id": "g-RJK4pnU8gQ",
    "outputId": "b01ea1b2-223c-4238-b523-90d1b3826936",
    "colab": {
     "base_uri": "https://localhost:8080/",
     "height": 34
    },
    "pycharm": {
     "is_executing": false
    }
   },
   "source": [
    "# evaluate training error\n",
    "f_train = predict(w, x_train)\n",
    "diff = np.abs(f_train - y_train) / 2\n",
    "error_train = np.mean(diff)\n",
    "print('Training classification error is ' + str(error_train))"
   ],
   "execution_count": 20,
   "outputs": [
    {
     "name": "stdout",
     "text": [
      "Training classification error is 0.36260162601626017\n"
     ],
     "output_type": "stream"
    }
   ]
  },
  {
   "cell_type": "code",
   "metadata": {
    "id": "paDufW79U8gS",
    "outputId": "4fa5c9a8-4952-41c3-8e77-bb923f6a8931",
    "colab": {
     "base_uri": "https://localhost:8080/",
     "height": 34
    },
    "pycharm": {
     "is_executing": false
    }
   },
   "source": [
    "# evaluate test error\n",
    "f_test = predict(w, x_test)\n",
    "diff = np.abs(f_test - y_test) / 2\n",
    "error_test = np.mean(diff)\n",
    "print('Test classification error is ' + str(error_test))"
   ],
   "execution_count": 21,
   "outputs": [
    {
     "name": "stdout",
     "text": [
      "Test classification error is 0.3464052287581699\n"
     ],
     "output_type": "stream"
    }
   ]
  },
  {
   "cell_type": "code",
   "metadata": {
    "id": "ehlvdNIpU8gV",
    "pycharm": {
     "is_executing": false
    }
   },
   "source": [
    ""
   ],
   "execution_count": 21,
   "outputs": []
  }
 ]
}